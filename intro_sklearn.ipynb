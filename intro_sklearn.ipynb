{
 "cells": [
  {
   "cell_type": "markdown",
   "source": [
    "# Akmal Muzakki (1305210087)"
   ],
   "metadata": {
    "collapsed": false
   }
  },
  {
   "cell_type": "markdown",
   "source": [
    "# Import Libraries"
   ],
   "metadata": {
    "collapsed": false
   }
  },
  {
   "cell_type": "code",
   "execution_count": 19,
   "outputs": [
    {
     "name": "stdout",
     "output_type": "stream",
     "text": [
      "Requirement already satisfied: graphviz in c:\\users\\akmal\\anaconda3\\lib\\site-packages (0.20.1)\n"
     ]
    }
   ],
   "source": [
    "!pip install graphviz"
   ],
   "metadata": {
    "collapsed": false,
    "ExecuteTime": {
     "start_time": "2023-05-01T15:15:03.386787Z",
     "end_time": "2023-05-01T15:15:09.131576Z"
    }
   }
  },
  {
   "cell_type": "code",
   "execution_count": 140,
   "outputs": [],
   "source": [
    "import numpy as np\n",
    "import scipy.sparse as sp_sparse\n",
    "import matplotlib.pyplot as plt\n",
    "import seaborn as sns\n",
    "\n",
    "import sklearn as sk\n",
    "import sklearn.datasets as sk_data\n",
    "import sklearn.metrics as metrics\n",
    "import sklearn.utils as utils\n",
    "import sklearn.tree as tree\n",
    "import sklearn.svm as svm\n",
    "import sklearn.linear_model as linear_model\n",
    "import sklearn.model_selection as model_selection\n",
    "\n",
    "import gensim.models\n",
    "import gensim.utils as g_utils\n",
    "import gensim.downloader as api\n",
    "\n",
    "from sklearn.feature_selection import VarianceThreshold\n",
    "from sklearn.feature_selection import SelectKBest\n",
    "from sklearn.feature_selection import chi2\n",
    "from sklearn.datasets import load_iris\n",
    "from sklearn.model_selection import train_test_split\n",
    "from sklearn.neighbors import KNeighborsClassifier\n",
    "from sklearn.linear_model import LinearRegression\n",
    "from sklearn.datasets import fetch_20newsgroups\n",
    "from sklearn.feature_extraction import text as sk_text\n",
    "\n",
    "from gensim.models.doc2vec import TaggedDocument\n",
    "from gensim.models import Word2Vec\n",
    "from gensim.models import Doc2Vec\n",
    "\n",
    "import graphviz\n",
    "\n",
    "%matplotlib inline"
   ],
   "metadata": {
    "collapsed": false,
    "ExecuteTime": {
     "start_time": "2023-05-01T20:14:51.631596Z",
     "end_time": "2023-05-01T20:14:51.671504Z"
    }
   }
  },
  {
   "cell_type": "markdown",
   "source": [
    "# Feature Selection"
   ],
   "metadata": {
    "collapsed": false
   }
  },
  {
   "cell_type": "markdown",
   "source": [
    "## Variance Threshold"
   ],
   "metadata": {
    "collapsed": false
   }
  },
  {
   "cell_type": "code",
   "execution_count": 34,
   "outputs": [
    {
     "name": "stdout",
     "output_type": "stream",
     "text": [
      "[[0 0 1]\n",
      " [0 1 0]\n",
      " [1 0 0]\n",
      " [0 1 1]\n",
      " [0 1 0]\n",
      " [0 1 1]]\n"
     ]
    },
    {
     "data": {
      "text/plain": "array([[0, 1],\n       [1, 0],\n       [0, 0],\n       [1, 1],\n       [1, 0],\n       [1, 1]])"
     },
     "execution_count": 34,
     "metadata": {},
     "output_type": "execute_result"
    }
   ],
   "source": [
    "X = [[0, 0, 1], [0, 1, 0], [1, 0, 0], [0, 1, 1], [0, 1, 0], [0, 1, 1]]\n",
    "print(np.array(X))\n",
    "sel = VarianceThreshold(threshold=(.8 * (1 - .8)))\n",
    "sel.fit_transform(X)"
   ],
   "metadata": {
    "collapsed": false,
    "ExecuteTime": {
     "start_time": "2023-05-01T15:41:04.167578Z",
     "end_time": "2023-05-01T15:41:04.189578Z"
    }
   }
  },
  {
   "cell_type": "markdown",
   "source": [
    "Program di atas menggunakan pustaka NumPy dan Scikit-learn untuk melakukan seleksi fitur dengan metode threshold variance.\n",
    "\n",
    "Pada bagian pertama program, terdapat sebuah array 2D X yang berisi data numerik. Kemudian, VarianceThreshold digunakan dengan nilai threshold sebesar 0.8 * (1 - 0.8) = 0.16 untuk melakukan seleksi fitur. Hasil transformasi data setelah seleksi fitur ditampilkan pada output.\n",
    "\n",
    "Pada bagian kedua program, dataset iris dari scikit-learn digunakan sebagai contoh. VarianceThreshold juga digunakan dengan nilai threshold sebesar 0.2 untuk melakukan seleksi fitur pada dataset iris. Hasil transformasi pada baris ke-1 hingga ke-10 dari dataset iris ditampilkan pada output. Selain itu, nilai variance dari setiap fitur pada dataset iris juga ditampilkan pada output."
   ],
   "metadata": {
    "collapsed": false
   }
  },
  {
   "cell_type": "markdown",
   "source": [],
   "metadata": {
    "collapsed": false
   }
  },
  {
   "cell_type": "markdown",
   "source": [
    "## Univariate Feature Selection"
   ],
   "metadata": {
    "collapsed": false
   }
  },
  {
   "cell_type": "code",
   "execution_count": 36,
   "outputs": [
    {
     "name": "stdout",
     "output_type": "stream",
     "text": [
      "(150, 4)\n",
      "Features: \n",
      "[[4.9 3.  1.4 0.2]\n",
      " [4.7 3.2 1.3 0.2]\n",
      " [4.6 3.1 1.5 0.2]\n",
      " [5.  3.6 1.4 0.2]\n",
      " [5.4 3.9 1.7 0.4]\n",
      " [4.6 3.4 1.4 0.3]\n",
      " [5.  3.4 1.5 0.2]\n",
      " [4.4 2.9 1.4 0.2]\n",
      " [4.9 3.1 1.5 0.1]]\n",
      "Labels: \n",
      "[0 0 0 0 0 0 0 0 0]\n",
      "Selected features: \n",
      "[[1.4 0.2]\n",
      " [1.3 0.2]\n",
      " [1.5 0.2]\n",
      " [1.4 0.2]\n",
      " [1.7 0.4]\n",
      " [1.4 0.3]\n",
      " [1.5 0.2]\n",
      " [1.4 0.2]\n",
      " [1.5 0.1]]\n"
     ]
    }
   ],
   "source": [
    "iris = sk_data.load_iris()\n",
    "X, y = iris.data, iris.target\n",
    "print(X.shape)\n",
    "print('Features: ')\n",
    "print(X[1:10,:])\n",
    "print('Labels: ')\n",
    "print(y[1:10])\n",
    "sel = SelectKBest(chi2, k=2)\n",
    "X_new = sel.fit_transform(X, y)\n",
    "print('Selected features: ')\n",
    "print(X_new[1:10])"
   ],
   "metadata": {
    "collapsed": false,
    "ExecuteTime": {
     "start_time": "2023-05-01T15:41:06.737835Z",
     "end_time": "2023-05-01T15:41:06.769760Z"
    }
   }
  },
  {
   "cell_type": "code",
   "execution_count": 37,
   "outputs": [
    {
     "name": "stdout",
     "output_type": "stream",
     "text": [
      "Chi2 values\n",
      "[ 10.81782088   3.7107283  116.31261309  67.0483602 ]\n",
      "Chi2 values\n",
      "[ 10.81782088   3.7107283  116.31261309  67.0483602 ]\n",
      "p-values\n",
      "[4.47651499e-03 1.56395980e-01 5.53397228e-26 2.75824965e-15]\n"
     ]
    }
   ],
   "source": [
    "print('Chi2 values')\n",
    "print(sel.scores_)\n",
    "c, p = sk.feature_selection.chi2(X, y)\n",
    "print('Chi2 values')\n",
    "print(c)\n",
    "print('p-values')\n",
    "print(p)"
   ],
   "metadata": {
    "collapsed": false,
    "ExecuteTime": {
     "start_time": "2023-05-01T15:41:07.667790Z",
     "end_time": "2023-05-01T15:41:07.684103Z"
    }
   }
  },
  {
   "cell_type": "markdown",
   "source": [
    "Program di atas menggunakan dataset iris dari scikit-learn dan melakukan seleksi fitur dengan metode chi-squared test.\n",
    "\n",
    "Pada bagian pertama program, dataset iris dibagi menjadi variabel fitur (X) dan variabel target (y) dengan menggunakan metode load_iris() dari scikit-learn. Kemudian, bentuk dari variabel fitur ditampilkan pada output.\n",
    "\n",
    "Pada bagian selanjutnya, SelectKBest digunakan dengan metode chi2 dan nilai k=2 untuk melakukan seleksi fitur pada dataset iris. Hasil transformasi setelah seleksi fitur ditampilkan pada output.\n",
    "\n",
    "Selain itu, nilai chi-squared dan p-value untuk setiap fitur pada dataset iris juga ditampilkan pada output. Chi-squared dan p-value dapat digunakan untuk mengevaluasi korelasi antara fitur dengan target dan memilih fitur yang signifikan dalam menjelaskan variabilitas target."
   ],
   "metadata": {
    "collapsed": false
   }
  },
  {
   "cell_type": "markdown",
   "source": [
    "# Supervised Learning"
   ],
   "metadata": {
    "collapsed": false
   }
  },
  {
   "cell_type": "markdown",
   "source": [
    "# Preparing the data"
   ],
   "metadata": {
    "collapsed": false
   }
  },
  {
   "cell_type": "code",
   "execution_count": 38,
   "outputs": [
    {
     "name": "stdout",
     "output_type": "stream",
     "text": [
      "Sample of data\n",
      "[[5.1 3.5 1.4 0.2]\n",
      " [4.9 3.  1.4 0.2]\n",
      " [4.7 3.2 1.3 0.2]\n",
      " [4.6 3.1 1.5 0.2]\n",
      " [5.  3.6 1.4 0.2]]\n",
      "The class labels vector\n",
      "[0 0 0 0 0 0 0 0 0 0 0 0 0 0 0 0 0 0 0 0 0 0 0 0 0 0 0 0 0 0 0 0 0 0 0 0 0\n",
      " 0 0 0 0 0 0 0 0 0 0 0 0 0 1 1 1 1 1 1 1 1 1 1 1 1 1 1 1 1 1 1 1 1 1 1 1 1\n",
      " 1 1 1 1 1 1 1 1 1 1 1 1 1 1 1 1 1 1 1 1 1 1 1 1 1 1 2 2 2 2 2 2 2 2 2 2 2\n",
      " 2 2 2 2 2 2 2 2 2 2 2 2 2 2 2 2 2 2 2 2 2 2 2 2 2 2 2 2 2 2 2 2 2 2 2 2 2\n",
      " 2 2]\n",
      "The names of the classes: ['setosa' 'versicolor' 'virginica']\n",
      "['sepal length (cm)', 'sepal width (cm)', 'petal length (cm)', 'petal width (cm)']\n"
     ]
    }
   ],
   "source": [
    "iris = load_iris()\n",
    "print(\"Sample of data\")\n",
    "print(iris.data[:5,:])\n",
    "print(\"The class labels vector\")\n",
    "print(iris.target)\n",
    "print(\"The names of the classes:\", iris.target_names)\n",
    "print(iris.feature_names)"
   ],
   "metadata": {
    "collapsed": false,
    "ExecuteTime": {
     "start_time": "2023-05-01T15:41:09.918938Z",
     "end_time": "2023-05-01T15:41:09.959511Z"
    }
   }
  },
  {
   "cell_type": "code",
   "execution_count": 39,
   "outputs": [
    {
     "name": "stdout",
     "output_type": "stream",
     "text": [
      "(150, 4)\n",
      "(150,)\n",
      "[0 1 1 0 2 1 2 0 0 2 1 0 2 1 1 0 1 1 0 0 1 1 1 0 2 1 0 0 1 2 1 2 1 2 2 0 1\n",
      " 0 1 2 2 0 2 2 1 2 0 0 0 1 0 0 2 2 2 2 2 1 2 1 0 2 2 0 0 2 0 2 2 1 1 2 2 0\n",
      " 1 1 2 1 2 1 0 0 0 2 0 1 2 2 0 0 1 0 2 1 2 2 1 2 2 1 0 1 0 1 1 0 1 0 0 2 2\n",
      " 2 0 0 1 0 2 0 2 2 0 2 0 1 0 1 1 0 0 1 0 1 1 0 1 1 1 1 2 0 0 2 1 2 1 2 2 1\n",
      " 2 0]\n"
     ]
    }
   ],
   "source": [
    "X, y = utils.shuffle(iris.data, iris.target, random_state=1)\n",
    "print(X.shape)\n",
    "print(y.shape)\n",
    "print(y)"
   ],
   "metadata": {
    "collapsed": false,
    "ExecuteTime": {
     "start_time": "2023-05-01T15:41:11.329029Z",
     "end_time": "2023-05-01T15:41:11.349885Z"
    }
   }
  },
  {
   "cell_type": "code",
   "execution_count": 40,
   "outputs": [
    {
     "name": "stdout",
     "output_type": "stream",
     "text": [
      "(100, 4) (100,)\n",
      "(50, 4) (50,)\n"
     ]
    }
   ],
   "source": [
    "train_set_size = 100\n",
    "X_train = X[:train_set_size]\n",
    "y_train = y[:train_set_size]\n",
    "X_test = X[train_set_size:]\n",
    "y_test = y[train_set_size:]\n",
    "print(X_train.shape, y_train.shape)\n",
    "print(X_test.shape, y_test.shape)"
   ],
   "metadata": {
    "collapsed": false,
    "ExecuteTime": {
     "start_time": "2023-05-01T15:41:12.238361Z",
     "end_time": "2023-05-01T15:41:12.264772Z"
    }
   }
  },
  {
   "cell_type": "markdown",
   "source": [
    "Program di atas adalah contoh implementasi penggunaan library scikit-learn untuk memuat dataset iris dan melakukan pemisahan dataset menjadi data training dan data testing dengan menggunakan fungsi train_test_split. Dataset iris terdiri dari 150 sampel data dengan masing-masing sampel terdiri dari 4 fitur dan terdapat 3 kelas target. Pada program ini, terlebih dahulu dilakukan pengacakan (shuffle) terhadap dataset, kemudian dipisahkan menjadi data training dan data testing dengan menggunakan metode pemisahan secara acak (random split) dan metode pemisahan dengan proporsi tertentu (test_size=0.4)."
   ],
   "metadata": {
    "collapsed": false
   }
  },
  {
   "cell_type": "markdown",
   "source": [
    "# Classification Models"
   ],
   "metadata": {
    "collapsed": false
   }
  },
  {
   "cell_type": "markdown",
   "source": [
    "## Decision Trees"
   ],
   "metadata": {
    "collapsed": false
   }
  },
  {
   "cell_type": "code",
   "execution_count": 42,
   "outputs": [
    {
     "name": "stdout",
     "output_type": "stream",
     "text": [
      "Classifier accuracy:  0.95\n",
      "Classifier predictions:  [2 1 0 2 0 2 0 1 1 1]\n",
      "Ground truth labels:  [2 1 0 2 0 2 0 1 1 1]\n",
      "[[0. 0. 1.]\n",
      " [0. 1. 0.]\n",
      " [1. 0. 0.]\n",
      " [0. 0. 1.]\n",
      " [1. 0. 0.]\n",
      " [0. 0. 1.]\n",
      " [1. 0. 0.]\n",
      " [0. 1. 0.]\n",
      " [0. 1. 0.]\n",
      " [0. 1. 0.]]\n"
     ]
    }
   ],
   "source": [
    "dtree = tree.DecisionTreeClassifier()\n",
    "dtree = dtree.fit(X_train, y_train)\n",
    "\n",
    "print(\"Classifier accuracy: \", dtree.score(X_test, y_test))\n",
    "\n",
    "y_pred = dtree.predict(X_test)\n",
    "y_prob = dtree.predict_proba(X_test)\n",
    "print(\"Classifier predictions: \", y_pred[:10])\n",
    "print(\"Ground truth labels: \", y_test[:10])\n",
    "print(y_prob[:10])"
   ],
   "metadata": {
    "collapsed": false,
    "ExecuteTime": {
     "start_time": "2023-05-01T15:41:15.433952Z",
     "end_time": "2023-05-01T15:41:15.460652Z"
    }
   }
  },
  {
   "cell_type": "code",
   "execution_count": 43,
   "outputs": [
    {
     "name": "stdout",
     "output_type": "stream",
     "text": [
      "accuracy: 0.95\n",
      "\n",
      "Confusion matrix\n",
      "[[16  0  0]\n",
      " [ 0 22  1]\n",
      " [ 0  2 19]]\n",
      "\n",
      "Precision Score per class\n",
      "[1.         0.91666667 0.95      ]\n",
      "\n",
      "Average Precision Score\n",
      "0.9505555555555555\n",
      "\n",
      "Recall Score per class\n",
      "[1.         0.95652174 0.9047619 ]\n",
      "\n",
      "Average Recall Score\n",
      "0.95\n",
      "\n",
      "F1-score Score per class\n",
      "[1.         0.93617021 0.92682927]\n",
      "\n",
      "Average F1 Score\n",
      "0.949922158796056\n"
     ]
    }
   ],
   "source": [
    "print(\"accuracy:\",metrics.accuracy_score(y_test,y_pred))\n",
    "print(\"\\nConfusion matrix\")\n",
    "print(metrics.confusion_matrix(y_test,y_pred))\n",
    "print(\"\\nPrecision Score per class\")\n",
    "print(metrics.precision_score(y_test,y_pred,average=None))\n",
    "print(\"\\nAverage Precision Score\")\n",
    "print(metrics.precision_score(y_test,y_pred,average='weighted'))\n",
    "print(\"\\nRecall Score per class\")\n",
    "print(metrics.recall_score(y_test,y_pred,average=None))\n",
    "print(\"\\nAverage Recall Score\")\n",
    "print(metrics.recall_score(y_test,y_pred,average='weighted'))\n",
    "print(\"\\nF1-score Score per class\")\n",
    "print(metrics.f1_score(y_test,y_pred,average=None))\n",
    "print(\"\\nAverage F1 Score\")\n",
    "print(metrics.f1_score(y_test,y_pred,average='weighted'))"
   ],
   "metadata": {
    "collapsed": false,
    "ExecuteTime": {
     "start_time": "2023-05-01T15:41:16.358997Z",
     "end_time": "2023-05-01T15:41:16.431612Z"
    }
   }
  },
  {
   "cell_type": "code",
   "execution_count": 141,
   "outputs": [
    {
     "name": "stdout",
     "output_type": "stream",
     "text": [
      "['sepal length (cm)', 'sepal width (cm)', 'petal length (cm)', 'petal width (cm)']\n"
     ]
    },
    {
     "ename": "ExecutableNotFound",
     "evalue": "failed to execute WindowsPath('dot'), make sure the Graphviz executables are on your systems' PATH",
     "output_type": "error",
     "traceback": [
      "\u001B[1;31m---------------------------------------------------------------------------\u001B[0m",
      "\u001B[1;31mFileNotFoundError\u001B[0m                         Traceback (most recent call last)",
      "File \u001B[1;32m~\\anaconda3\\lib\\site-packages\\graphviz\\backend\\execute.py:79\u001B[0m, in \u001B[0;36mrun_check\u001B[1;34m(cmd, input_lines, encoding, quiet, **kwargs)\u001B[0m\n\u001B[0;32m     78\u001B[0m         kwargs[\u001B[38;5;124m'\u001B[39m\u001B[38;5;124mstdout\u001B[39m\u001B[38;5;124m'\u001B[39m] \u001B[38;5;241m=\u001B[39m kwargs[\u001B[38;5;124m'\u001B[39m\u001B[38;5;124mstderr\u001B[39m\u001B[38;5;124m'\u001B[39m] \u001B[38;5;241m=\u001B[39m subprocess\u001B[38;5;241m.\u001B[39mPIPE\n\u001B[1;32m---> 79\u001B[0m     proc \u001B[38;5;241m=\u001B[39m \u001B[43m_run_input_lines\u001B[49m\u001B[43m(\u001B[49m\u001B[43mcmd\u001B[49m\u001B[43m,\u001B[49m\u001B[43m \u001B[49m\u001B[43minput_lines\u001B[49m\u001B[43m,\u001B[49m\u001B[43m \u001B[49m\u001B[43mkwargs\u001B[49m\u001B[38;5;241;43m=\u001B[39;49m\u001B[43mkwargs\u001B[49m\u001B[43m)\u001B[49m\n\u001B[0;32m     80\u001B[0m \u001B[38;5;28;01melse\u001B[39;00m:\n",
      "File \u001B[1;32m~\\anaconda3\\lib\\site-packages\\graphviz\\backend\\execute.py:99\u001B[0m, in \u001B[0;36m_run_input_lines\u001B[1;34m(cmd, input_lines, kwargs)\u001B[0m\n\u001B[0;32m     98\u001B[0m \u001B[38;5;28;01mdef\u001B[39;00m \u001B[38;5;21m_run_input_lines\u001B[39m(cmd, input_lines, \u001B[38;5;241m*\u001B[39m, kwargs):\n\u001B[1;32m---> 99\u001B[0m     popen \u001B[38;5;241m=\u001B[39m subprocess\u001B[38;5;241m.\u001B[39mPopen(cmd, stdin\u001B[38;5;241m=\u001B[39msubprocess\u001B[38;5;241m.\u001B[39mPIPE, \u001B[38;5;241m*\u001B[39m\u001B[38;5;241m*\u001B[39mkwargs)\n\u001B[0;32m    101\u001B[0m     stdin_write \u001B[38;5;241m=\u001B[39m popen\u001B[38;5;241m.\u001B[39mstdin\u001B[38;5;241m.\u001B[39mwrite\n",
      "File \u001B[1;32m~\\anaconda3\\lib\\subprocess.py:951\u001B[0m, in \u001B[0;36mPopen.__init__\u001B[1;34m(self, args, bufsize, executable, stdin, stdout, stderr, preexec_fn, close_fds, shell, cwd, env, universal_newlines, startupinfo, creationflags, restore_signals, start_new_session, pass_fds, user, group, extra_groups, encoding, errors, text, umask)\u001B[0m\n\u001B[0;32m    948\u001B[0m             \u001B[38;5;28mself\u001B[39m\u001B[38;5;241m.\u001B[39mstderr \u001B[38;5;241m=\u001B[39m io\u001B[38;5;241m.\u001B[39mTextIOWrapper(\u001B[38;5;28mself\u001B[39m\u001B[38;5;241m.\u001B[39mstderr,\n\u001B[0;32m    949\u001B[0m                     encoding\u001B[38;5;241m=\u001B[39mencoding, errors\u001B[38;5;241m=\u001B[39merrors)\n\u001B[1;32m--> 951\u001B[0m     \u001B[38;5;28;43mself\u001B[39;49m\u001B[38;5;241;43m.\u001B[39;49m\u001B[43m_execute_child\u001B[49m\u001B[43m(\u001B[49m\u001B[43margs\u001B[49m\u001B[43m,\u001B[49m\u001B[43m \u001B[49m\u001B[43mexecutable\u001B[49m\u001B[43m,\u001B[49m\u001B[43m \u001B[49m\u001B[43mpreexec_fn\u001B[49m\u001B[43m,\u001B[49m\u001B[43m \u001B[49m\u001B[43mclose_fds\u001B[49m\u001B[43m,\u001B[49m\n\u001B[0;32m    952\u001B[0m \u001B[43m                        \u001B[49m\u001B[43mpass_fds\u001B[49m\u001B[43m,\u001B[49m\u001B[43m \u001B[49m\u001B[43mcwd\u001B[49m\u001B[43m,\u001B[49m\u001B[43m \u001B[49m\u001B[43menv\u001B[49m\u001B[43m,\u001B[49m\n\u001B[0;32m    953\u001B[0m \u001B[43m                        \u001B[49m\u001B[43mstartupinfo\u001B[49m\u001B[43m,\u001B[49m\u001B[43m \u001B[49m\u001B[43mcreationflags\u001B[49m\u001B[43m,\u001B[49m\u001B[43m \u001B[49m\u001B[43mshell\u001B[49m\u001B[43m,\u001B[49m\n\u001B[0;32m    954\u001B[0m \u001B[43m                        \u001B[49m\u001B[43mp2cread\u001B[49m\u001B[43m,\u001B[49m\u001B[43m \u001B[49m\u001B[43mp2cwrite\u001B[49m\u001B[43m,\u001B[49m\n\u001B[0;32m    955\u001B[0m \u001B[43m                        \u001B[49m\u001B[43mc2pread\u001B[49m\u001B[43m,\u001B[49m\u001B[43m \u001B[49m\u001B[43mc2pwrite\u001B[49m\u001B[43m,\u001B[49m\n\u001B[0;32m    956\u001B[0m \u001B[43m                        \u001B[49m\u001B[43merrread\u001B[49m\u001B[43m,\u001B[49m\u001B[43m \u001B[49m\u001B[43merrwrite\u001B[49m\u001B[43m,\u001B[49m\n\u001B[0;32m    957\u001B[0m \u001B[43m                        \u001B[49m\u001B[43mrestore_signals\u001B[49m\u001B[43m,\u001B[49m\n\u001B[0;32m    958\u001B[0m \u001B[43m                        \u001B[49m\u001B[43mgid\u001B[49m\u001B[43m,\u001B[49m\u001B[43m \u001B[49m\u001B[43mgids\u001B[49m\u001B[43m,\u001B[49m\u001B[43m \u001B[49m\u001B[43muid\u001B[49m\u001B[43m,\u001B[49m\u001B[43m \u001B[49m\u001B[43mumask\u001B[49m\u001B[43m,\u001B[49m\n\u001B[0;32m    959\u001B[0m \u001B[43m                        \u001B[49m\u001B[43mstart_new_session\u001B[49m\u001B[43m)\u001B[49m\n\u001B[0;32m    960\u001B[0m \u001B[38;5;28;01mexcept\u001B[39;00m:\n\u001B[0;32m    961\u001B[0m     \u001B[38;5;66;03m# Cleanup if the child failed starting.\u001B[39;00m\n",
      "File \u001B[1;32m~\\anaconda3\\lib\\subprocess.py:1420\u001B[0m, in \u001B[0;36mPopen._execute_child\u001B[1;34m(self, args, executable, preexec_fn, close_fds, pass_fds, cwd, env, startupinfo, creationflags, shell, p2cread, p2cwrite, c2pread, c2pwrite, errread, errwrite, unused_restore_signals, unused_gid, unused_gids, unused_uid, unused_umask, unused_start_new_session)\u001B[0m\n\u001B[0;32m   1419\u001B[0m \u001B[38;5;28;01mtry\u001B[39;00m:\n\u001B[1;32m-> 1420\u001B[0m     hp, ht, pid, tid \u001B[38;5;241m=\u001B[39m \u001B[43m_winapi\u001B[49m\u001B[38;5;241;43m.\u001B[39;49m\u001B[43mCreateProcess\u001B[49m\u001B[43m(\u001B[49m\u001B[43mexecutable\u001B[49m\u001B[43m,\u001B[49m\u001B[43m \u001B[49m\u001B[43margs\u001B[49m\u001B[43m,\u001B[49m\n\u001B[0;32m   1421\u001B[0m \u001B[43m                             \u001B[49m\u001B[38;5;66;43;03m# no special security\u001B[39;49;00m\n\u001B[0;32m   1422\u001B[0m \u001B[43m                             \u001B[49m\u001B[38;5;28;43;01mNone\u001B[39;49;00m\u001B[43m,\u001B[49m\u001B[43m \u001B[49m\u001B[38;5;28;43;01mNone\u001B[39;49;00m\u001B[43m,\u001B[49m\n\u001B[0;32m   1423\u001B[0m \u001B[43m                             \u001B[49m\u001B[38;5;28;43mint\u001B[39;49m\u001B[43m(\u001B[49m\u001B[38;5;129;43;01mnot\u001B[39;49;00m\u001B[43m \u001B[49m\u001B[43mclose_fds\u001B[49m\u001B[43m)\u001B[49m\u001B[43m,\u001B[49m\n\u001B[0;32m   1424\u001B[0m \u001B[43m                             \u001B[49m\u001B[43mcreationflags\u001B[49m\u001B[43m,\u001B[49m\n\u001B[0;32m   1425\u001B[0m \u001B[43m                             \u001B[49m\u001B[43menv\u001B[49m\u001B[43m,\u001B[49m\n\u001B[0;32m   1426\u001B[0m \u001B[43m                             \u001B[49m\u001B[43mcwd\u001B[49m\u001B[43m,\u001B[49m\n\u001B[0;32m   1427\u001B[0m \u001B[43m                             \u001B[49m\u001B[43mstartupinfo\u001B[49m\u001B[43m)\u001B[49m\n\u001B[0;32m   1428\u001B[0m \u001B[38;5;28;01mfinally\u001B[39;00m:\n\u001B[0;32m   1429\u001B[0m     \u001B[38;5;66;03m# Child is launched. Close the parent's copy of those pipe\u001B[39;00m\n\u001B[0;32m   1430\u001B[0m     \u001B[38;5;66;03m# handles that only the child should have open.  You need\u001B[39;00m\n\u001B[1;32m   (...)\u001B[0m\n\u001B[0;32m   1433\u001B[0m     \u001B[38;5;66;03m# pipe will not close when the child process exits and the\u001B[39;00m\n\u001B[0;32m   1434\u001B[0m     \u001B[38;5;66;03m# ReadFile will hang.\u001B[39;00m\n",
      "\u001B[1;31mFileNotFoundError\u001B[0m: [WinError 2] The system cannot find the file specified",
      "\nThe above exception was the direct cause of the following exception:\n",
      "\u001B[1;31mExecutableNotFound\u001B[0m                        Traceback (most recent call last)",
      "File \u001B[1;32m~\\anaconda3\\lib\\site-packages\\IPython\\core\\formatters.py:973\u001B[0m, in \u001B[0;36mMimeBundleFormatter.__call__\u001B[1;34m(self, obj, include, exclude)\u001B[0m\n\u001B[0;32m    970\u001B[0m     method \u001B[38;5;241m=\u001B[39m get_real_method(obj, \u001B[38;5;28mself\u001B[39m\u001B[38;5;241m.\u001B[39mprint_method)\n\u001B[0;32m    972\u001B[0m     \u001B[38;5;28;01mif\u001B[39;00m method \u001B[38;5;129;01mis\u001B[39;00m \u001B[38;5;129;01mnot\u001B[39;00m \u001B[38;5;28;01mNone\u001B[39;00m:\n\u001B[1;32m--> 973\u001B[0m         \u001B[38;5;28;01mreturn\u001B[39;00m \u001B[43mmethod\u001B[49m\u001B[43m(\u001B[49m\u001B[43minclude\u001B[49m\u001B[38;5;241;43m=\u001B[39;49m\u001B[43minclude\u001B[49m\u001B[43m,\u001B[49m\u001B[43m \u001B[49m\u001B[43mexclude\u001B[49m\u001B[38;5;241;43m=\u001B[39;49m\u001B[43mexclude\u001B[49m\u001B[43m)\u001B[49m\n\u001B[0;32m    974\u001B[0m     \u001B[38;5;28;01mreturn\u001B[39;00m \u001B[38;5;28;01mNone\u001B[39;00m\n\u001B[0;32m    975\u001B[0m \u001B[38;5;28;01melse\u001B[39;00m:\n",
      "File \u001B[1;32m~\\anaconda3\\lib\\site-packages\\graphviz\\jupyter_integration.py:98\u001B[0m, in \u001B[0;36mJupyterIntegration._repr_mimebundle_\u001B[1;34m(self, include, exclude, **_)\u001B[0m\n\u001B[0;32m     96\u001B[0m include \u001B[38;5;241m=\u001B[39m \u001B[38;5;28mset\u001B[39m(include) \u001B[38;5;28;01mif\u001B[39;00m include \u001B[38;5;129;01mis\u001B[39;00m \u001B[38;5;129;01mnot\u001B[39;00m \u001B[38;5;28;01mNone\u001B[39;00m \u001B[38;5;28;01melse\u001B[39;00m {\u001B[38;5;28mself\u001B[39m\u001B[38;5;241m.\u001B[39m_jupyter_mimetype}\n\u001B[0;32m     97\u001B[0m include \u001B[38;5;241m-\u001B[39m\u001B[38;5;241m=\u001B[39m \u001B[38;5;28mset\u001B[39m(exclude \u001B[38;5;129;01mor\u001B[39;00m [])\n\u001B[1;32m---> 98\u001B[0m \u001B[38;5;28;01mreturn\u001B[39;00m {mimetype: \u001B[38;5;28mgetattr\u001B[39m(\u001B[38;5;28mself\u001B[39m, method_name)()\n\u001B[0;32m     99\u001B[0m         \u001B[38;5;28;01mfor\u001B[39;00m mimetype, method_name \u001B[38;5;129;01min\u001B[39;00m MIME_TYPES\u001B[38;5;241m.\u001B[39mitems()\n\u001B[0;32m    100\u001B[0m         \u001B[38;5;28;01mif\u001B[39;00m mimetype \u001B[38;5;129;01min\u001B[39;00m include}\n",
      "File \u001B[1;32m~\\anaconda3\\lib\\site-packages\\graphviz\\jupyter_integration.py:98\u001B[0m, in \u001B[0;36m<dictcomp>\u001B[1;34m(.0)\u001B[0m\n\u001B[0;32m     96\u001B[0m include \u001B[38;5;241m=\u001B[39m \u001B[38;5;28mset\u001B[39m(include) \u001B[38;5;28;01mif\u001B[39;00m include \u001B[38;5;129;01mis\u001B[39;00m \u001B[38;5;129;01mnot\u001B[39;00m \u001B[38;5;28;01mNone\u001B[39;00m \u001B[38;5;28;01melse\u001B[39;00m {\u001B[38;5;28mself\u001B[39m\u001B[38;5;241m.\u001B[39m_jupyter_mimetype}\n\u001B[0;32m     97\u001B[0m include \u001B[38;5;241m-\u001B[39m\u001B[38;5;241m=\u001B[39m \u001B[38;5;28mset\u001B[39m(exclude \u001B[38;5;129;01mor\u001B[39;00m [])\n\u001B[1;32m---> 98\u001B[0m \u001B[38;5;28;01mreturn\u001B[39;00m {mimetype: \u001B[38;5;28;43mgetattr\u001B[39;49m\u001B[43m(\u001B[49m\u001B[38;5;28;43mself\u001B[39;49m\u001B[43m,\u001B[49m\u001B[43m \u001B[49m\u001B[43mmethod_name\u001B[49m\u001B[43m)\u001B[49m\u001B[43m(\u001B[49m\u001B[43m)\u001B[49m\n\u001B[0;32m     99\u001B[0m         \u001B[38;5;28;01mfor\u001B[39;00m mimetype, method_name \u001B[38;5;129;01min\u001B[39;00m MIME_TYPES\u001B[38;5;241m.\u001B[39mitems()\n\u001B[0;32m    100\u001B[0m         \u001B[38;5;28;01mif\u001B[39;00m mimetype \u001B[38;5;129;01min\u001B[39;00m include}\n",
      "File \u001B[1;32m~\\anaconda3\\lib\\site-packages\\graphviz\\jupyter_integration.py:112\u001B[0m, in \u001B[0;36mJupyterIntegration._repr_image_svg_xml\u001B[1;34m(self)\u001B[0m\n\u001B[0;32m    110\u001B[0m \u001B[38;5;28;01mdef\u001B[39;00m \u001B[38;5;21m_repr_image_svg_xml\u001B[39m(\u001B[38;5;28mself\u001B[39m) \u001B[38;5;241m-\u001B[39m\u001B[38;5;241m>\u001B[39m \u001B[38;5;28mstr\u001B[39m:\n\u001B[0;32m    111\u001B[0m     \u001B[38;5;124;03m\"\"\"Return the rendered graph as SVG string.\"\"\"\u001B[39;00m\n\u001B[1;32m--> 112\u001B[0m     \u001B[38;5;28;01mreturn\u001B[39;00m \u001B[38;5;28;43mself\u001B[39;49m\u001B[38;5;241;43m.\u001B[39;49m\u001B[43mpipe\u001B[49m\u001B[43m(\u001B[49m\u001B[38;5;28;43mformat\u001B[39;49m\u001B[38;5;241;43m=\u001B[39;49m\u001B[38;5;124;43m'\u001B[39;49m\u001B[38;5;124;43msvg\u001B[39;49m\u001B[38;5;124;43m'\u001B[39;49m\u001B[43m,\u001B[49m\u001B[43m \u001B[49m\u001B[43mencoding\u001B[49m\u001B[38;5;241;43m=\u001B[39;49m\u001B[43mSVG_ENCODING\u001B[49m\u001B[43m)\u001B[49m\n",
      "File \u001B[1;32m~\\anaconda3\\lib\\site-packages\\graphviz\\piping.py:104\u001B[0m, in \u001B[0;36mPipe.pipe\u001B[1;34m(self, format, renderer, formatter, neato_no_op, quiet, engine, encoding)\u001B[0m\n\u001B[0;32m     55\u001B[0m \u001B[38;5;28;01mdef\u001B[39;00m \u001B[38;5;21mpipe\u001B[39m(\u001B[38;5;28mself\u001B[39m,\n\u001B[0;32m     56\u001B[0m          \u001B[38;5;28mformat\u001B[39m: typing\u001B[38;5;241m.\u001B[39mOptional[\u001B[38;5;28mstr\u001B[39m] \u001B[38;5;241m=\u001B[39m \u001B[38;5;28;01mNone\u001B[39;00m,\n\u001B[0;32m     57\u001B[0m          renderer: typing\u001B[38;5;241m.\u001B[39mOptional[\u001B[38;5;28mstr\u001B[39m] \u001B[38;5;241m=\u001B[39m \u001B[38;5;28;01mNone\u001B[39;00m,\n\u001B[1;32m   (...)\u001B[0m\n\u001B[0;32m     61\u001B[0m          engine: typing\u001B[38;5;241m.\u001B[39mOptional[\u001B[38;5;28mstr\u001B[39m] \u001B[38;5;241m=\u001B[39m \u001B[38;5;28;01mNone\u001B[39;00m,\n\u001B[0;32m     62\u001B[0m          encoding: typing\u001B[38;5;241m.\u001B[39mOptional[\u001B[38;5;28mstr\u001B[39m] \u001B[38;5;241m=\u001B[39m \u001B[38;5;28;01mNone\u001B[39;00m) \u001B[38;5;241m-\u001B[39m\u001B[38;5;241m>\u001B[39m typing\u001B[38;5;241m.\u001B[39mUnion[\u001B[38;5;28mbytes\u001B[39m, \u001B[38;5;28mstr\u001B[39m]:\n\u001B[0;32m     63\u001B[0m     \u001B[38;5;124;03m\"\"\"Return the source piped through the Graphviz layout command.\u001B[39;00m\n\u001B[0;32m     64\u001B[0m \n\u001B[0;32m     65\u001B[0m \u001B[38;5;124;03m    Args:\u001B[39;00m\n\u001B[1;32m   (...)\u001B[0m\n\u001B[0;32m    102\u001B[0m \u001B[38;5;124;03m        '<?xml version='\u001B[39;00m\n\u001B[0;32m    103\u001B[0m \u001B[38;5;124;03m    \"\"\"\u001B[39;00m\n\u001B[1;32m--> 104\u001B[0m     \u001B[38;5;28;01mreturn\u001B[39;00m \u001B[38;5;28;43mself\u001B[39;49m\u001B[38;5;241;43m.\u001B[39;49m\u001B[43m_pipe_legacy\u001B[49m\u001B[43m(\u001B[49m\u001B[38;5;28;43mformat\u001B[39;49m\u001B[43m,\u001B[49m\n\u001B[0;32m    105\u001B[0m \u001B[43m                             \u001B[49m\u001B[43mrenderer\u001B[49m\u001B[38;5;241;43m=\u001B[39;49m\u001B[43mrenderer\u001B[49m\u001B[43m,\u001B[49m\n\u001B[0;32m    106\u001B[0m \u001B[43m                             \u001B[49m\u001B[43mformatter\u001B[49m\u001B[38;5;241;43m=\u001B[39;49m\u001B[43mformatter\u001B[49m\u001B[43m,\u001B[49m\n\u001B[0;32m    107\u001B[0m \u001B[43m                             \u001B[49m\u001B[43mneato_no_op\u001B[49m\u001B[38;5;241;43m=\u001B[39;49m\u001B[43mneato_no_op\u001B[49m\u001B[43m,\u001B[49m\n\u001B[0;32m    108\u001B[0m \u001B[43m                             \u001B[49m\u001B[43mquiet\u001B[49m\u001B[38;5;241;43m=\u001B[39;49m\u001B[43mquiet\u001B[49m\u001B[43m,\u001B[49m\n\u001B[0;32m    109\u001B[0m \u001B[43m                             \u001B[49m\u001B[43mengine\u001B[49m\u001B[38;5;241;43m=\u001B[39;49m\u001B[43mengine\u001B[49m\u001B[43m,\u001B[49m\n\u001B[0;32m    110\u001B[0m \u001B[43m                             \u001B[49m\u001B[43mencoding\u001B[49m\u001B[38;5;241;43m=\u001B[39;49m\u001B[43mencoding\u001B[49m\u001B[43m)\u001B[49m\n",
      "File \u001B[1;32m~\\anaconda3\\lib\\site-packages\\graphviz\\_tools.py:171\u001B[0m, in \u001B[0;36mdeprecate_positional_args.<locals>.decorator.<locals>.wrapper\u001B[1;34m(*args, **kwargs)\u001B[0m\n\u001B[0;32m    162\u001B[0m     wanted \u001B[38;5;241m=\u001B[39m \u001B[38;5;124m'\u001B[39m\u001B[38;5;124m, \u001B[39m\u001B[38;5;124m'\u001B[39m\u001B[38;5;241m.\u001B[39mjoin(\u001B[38;5;124mf\u001B[39m\u001B[38;5;124m'\u001B[39m\u001B[38;5;132;01m{\u001B[39;00mname\u001B[38;5;132;01m}\u001B[39;00m\u001B[38;5;124m=\u001B[39m\u001B[38;5;132;01m{\u001B[39;00mvalue\u001B[38;5;132;01m!r}\u001B[39;00m\u001B[38;5;124m'\u001B[39m\n\u001B[0;32m    163\u001B[0m                        \u001B[38;5;28;01mfor\u001B[39;00m name, value \u001B[38;5;129;01min\u001B[39;00m deprecated\u001B[38;5;241m.\u001B[39mitems())\n\u001B[0;32m    164\u001B[0m     warnings\u001B[38;5;241m.\u001B[39mwarn(\u001B[38;5;124mf\u001B[39m\u001B[38;5;124m'\u001B[39m\u001B[38;5;124mThe signature of \u001B[39m\u001B[38;5;132;01m{\u001B[39;00mfunc\u001B[38;5;241m.\u001B[39m\u001B[38;5;18m__name__\u001B[39m\u001B[38;5;132;01m}\u001B[39;00m\u001B[38;5;124m will be reduced\u001B[39m\u001B[38;5;124m'\u001B[39m\n\u001B[0;32m    165\u001B[0m                   \u001B[38;5;124mf\u001B[39m\u001B[38;5;124m'\u001B[39m\u001B[38;5;124m to \u001B[39m\u001B[38;5;132;01m{\u001B[39;00msupported_number\u001B[38;5;132;01m}\u001B[39;00m\u001B[38;5;124m positional args\u001B[39m\u001B[38;5;124m'\u001B[39m\n\u001B[0;32m    166\u001B[0m                   \u001B[38;5;124mf\u001B[39m\u001B[38;5;124m'\u001B[39m\u001B[38;5;124m \u001B[39m\u001B[38;5;132;01m{\u001B[39;00m\u001B[38;5;28mlist\u001B[39m(supported)\u001B[38;5;132;01m}\u001B[39;00m\u001B[38;5;124m: pass \u001B[39m\u001B[38;5;132;01m{\u001B[39;00mwanted\u001B[38;5;132;01m}\u001B[39;00m\u001B[38;5;124m'\u001B[39m\n\u001B[0;32m    167\u001B[0m                   \u001B[38;5;124m'\u001B[39m\u001B[38;5;124m as keyword arg(s)\u001B[39m\u001B[38;5;124m'\u001B[39m,\n\u001B[0;32m    168\u001B[0m                   stacklevel\u001B[38;5;241m=\u001B[39mstacklevel,\n\u001B[0;32m    169\u001B[0m                   category\u001B[38;5;241m=\u001B[39mcategory)\n\u001B[1;32m--> 171\u001B[0m \u001B[38;5;28;01mreturn\u001B[39;00m func(\u001B[38;5;241m*\u001B[39margs, \u001B[38;5;241m*\u001B[39m\u001B[38;5;241m*\u001B[39mkwargs)\n",
      "File \u001B[1;32m~\\anaconda3\\lib\\site-packages\\graphviz\\piping.py:121\u001B[0m, in \u001B[0;36mPipe._pipe_legacy\u001B[1;34m(self, format, renderer, formatter, neato_no_op, quiet, engine, encoding)\u001B[0m\n\u001B[0;32m    112\u001B[0m \u001B[38;5;129m@_tools\u001B[39m\u001B[38;5;241m.\u001B[39mdeprecate_positional_args(supported_number\u001B[38;5;241m=\u001B[39m\u001B[38;5;241m2\u001B[39m)\n\u001B[0;32m    113\u001B[0m \u001B[38;5;28;01mdef\u001B[39;00m \u001B[38;5;21m_pipe_legacy\u001B[39m(\u001B[38;5;28mself\u001B[39m,\n\u001B[0;32m    114\u001B[0m                  \u001B[38;5;28mformat\u001B[39m: typing\u001B[38;5;241m.\u001B[39mOptional[\u001B[38;5;28mstr\u001B[39m] \u001B[38;5;241m=\u001B[39m \u001B[38;5;28;01mNone\u001B[39;00m,\n\u001B[1;32m   (...)\u001B[0m\n\u001B[0;32m    119\u001B[0m                  engine: typing\u001B[38;5;241m.\u001B[39mOptional[\u001B[38;5;28mstr\u001B[39m] \u001B[38;5;241m=\u001B[39m \u001B[38;5;28;01mNone\u001B[39;00m,\n\u001B[0;32m    120\u001B[0m                  encoding: typing\u001B[38;5;241m.\u001B[39mOptional[\u001B[38;5;28mstr\u001B[39m] \u001B[38;5;241m=\u001B[39m \u001B[38;5;28;01mNone\u001B[39;00m) \u001B[38;5;241m-\u001B[39m\u001B[38;5;241m>\u001B[39m typing\u001B[38;5;241m.\u001B[39mUnion[\u001B[38;5;28mbytes\u001B[39m, \u001B[38;5;28mstr\u001B[39m]:\n\u001B[1;32m--> 121\u001B[0m     \u001B[38;5;28;01mreturn\u001B[39;00m \u001B[38;5;28;43mself\u001B[39;49m\u001B[38;5;241;43m.\u001B[39;49m\u001B[43m_pipe_future\u001B[49m\u001B[43m(\u001B[49m\u001B[38;5;28;43mformat\u001B[39;49m\u001B[43m,\u001B[49m\n\u001B[0;32m    122\u001B[0m \u001B[43m                             \u001B[49m\u001B[43mrenderer\u001B[49m\u001B[38;5;241;43m=\u001B[39;49m\u001B[43mrenderer\u001B[49m\u001B[43m,\u001B[49m\n\u001B[0;32m    123\u001B[0m \u001B[43m                             \u001B[49m\u001B[43mformatter\u001B[49m\u001B[38;5;241;43m=\u001B[39;49m\u001B[43mformatter\u001B[49m\u001B[43m,\u001B[49m\n\u001B[0;32m    124\u001B[0m \u001B[43m                             \u001B[49m\u001B[43mneato_no_op\u001B[49m\u001B[38;5;241;43m=\u001B[39;49m\u001B[43mneato_no_op\u001B[49m\u001B[43m,\u001B[49m\n\u001B[0;32m    125\u001B[0m \u001B[43m                             \u001B[49m\u001B[43mquiet\u001B[49m\u001B[38;5;241;43m=\u001B[39;49m\u001B[43mquiet\u001B[49m\u001B[43m,\u001B[49m\n\u001B[0;32m    126\u001B[0m \u001B[43m                             \u001B[49m\u001B[43mengine\u001B[49m\u001B[38;5;241;43m=\u001B[39;49m\u001B[43mengine\u001B[49m\u001B[43m,\u001B[49m\n\u001B[0;32m    127\u001B[0m \u001B[43m                             \u001B[49m\u001B[43mencoding\u001B[49m\u001B[38;5;241;43m=\u001B[39;49m\u001B[43mencoding\u001B[49m\u001B[43m)\u001B[49m\n",
      "File \u001B[1;32m~\\anaconda3\\lib\\site-packages\\graphviz\\piping.py:149\u001B[0m, in \u001B[0;36mPipe._pipe_future\u001B[1;34m(self, format, renderer, formatter, neato_no_op, quiet, engine, encoding)\u001B[0m\n\u001B[0;32m    146\u001B[0m \u001B[38;5;28;01mif\u001B[39;00m encoding \u001B[38;5;129;01mis\u001B[39;00m \u001B[38;5;129;01mnot\u001B[39;00m \u001B[38;5;28;01mNone\u001B[39;00m:\n\u001B[0;32m    147\u001B[0m     \u001B[38;5;28;01mif\u001B[39;00m codecs\u001B[38;5;241m.\u001B[39mlookup(encoding) \u001B[38;5;129;01mis\u001B[39;00m codecs\u001B[38;5;241m.\u001B[39mlookup(\u001B[38;5;28mself\u001B[39m\u001B[38;5;241m.\u001B[39mencoding):\n\u001B[0;32m    148\u001B[0m         \u001B[38;5;66;03m# common case: both stdin and stdout need the same encoding\u001B[39;00m\n\u001B[1;32m--> 149\u001B[0m         \u001B[38;5;28;01mreturn\u001B[39;00m \u001B[38;5;28mself\u001B[39m\u001B[38;5;241m.\u001B[39m_pipe_lines_string(\u001B[38;5;241m*\u001B[39margs, encoding\u001B[38;5;241m=\u001B[39mencoding, \u001B[38;5;241m*\u001B[39m\u001B[38;5;241m*\u001B[39mkwargs)\n\u001B[0;32m    150\u001B[0m     \u001B[38;5;28;01mtry\u001B[39;00m:\n\u001B[0;32m    151\u001B[0m         raw \u001B[38;5;241m=\u001B[39m \u001B[38;5;28mself\u001B[39m\u001B[38;5;241m.\u001B[39m_pipe_lines(\u001B[38;5;241m*\u001B[39margs, input_encoding\u001B[38;5;241m=\u001B[39m\u001B[38;5;28mself\u001B[39m\u001B[38;5;241m.\u001B[39mencoding, \u001B[38;5;241m*\u001B[39m\u001B[38;5;241m*\u001B[39mkwargs)\n",
      "File \u001B[1;32m~\\anaconda3\\lib\\site-packages\\graphviz\\backend\\piping.py:212\u001B[0m, in \u001B[0;36mpipe_lines_string\u001B[1;34m(engine, format, input_lines, encoding, renderer, formatter, neato_no_op, quiet)\u001B[0m\n\u001B[0;32m    206\u001B[0m cmd \u001B[38;5;241m=\u001B[39m dot_command\u001B[38;5;241m.\u001B[39mcommand(engine, \u001B[38;5;28mformat\u001B[39m,\n\u001B[0;32m    207\u001B[0m                           renderer\u001B[38;5;241m=\u001B[39mrenderer,\n\u001B[0;32m    208\u001B[0m                           formatter\u001B[38;5;241m=\u001B[39mformatter,\n\u001B[0;32m    209\u001B[0m                           neato_no_op\u001B[38;5;241m=\u001B[39mneato_no_op)\n\u001B[0;32m    210\u001B[0m kwargs \u001B[38;5;241m=\u001B[39m {\u001B[38;5;124m'\u001B[39m\u001B[38;5;124minput_lines\u001B[39m\u001B[38;5;124m'\u001B[39m: input_lines, \u001B[38;5;124m'\u001B[39m\u001B[38;5;124mencoding\u001B[39m\u001B[38;5;124m'\u001B[39m: encoding}\n\u001B[1;32m--> 212\u001B[0m proc \u001B[38;5;241m=\u001B[39m execute\u001B[38;5;241m.\u001B[39mrun_check(cmd, capture_output\u001B[38;5;241m=\u001B[39m\u001B[38;5;28;01mTrue\u001B[39;00m, quiet\u001B[38;5;241m=\u001B[39mquiet, \u001B[38;5;241m*\u001B[39m\u001B[38;5;241m*\u001B[39mkwargs)\n\u001B[0;32m    213\u001B[0m \u001B[38;5;28;01mreturn\u001B[39;00m proc\u001B[38;5;241m.\u001B[39mstdout\n",
      "File \u001B[1;32m~\\anaconda3\\lib\\site-packages\\graphviz\\backend\\execute.py:84\u001B[0m, in \u001B[0;36mrun_check\u001B[1;34m(cmd, input_lines, encoding, quiet, **kwargs)\u001B[0m\n\u001B[0;32m     82\u001B[0m \u001B[38;5;28;01mexcept\u001B[39;00m \u001B[38;5;167;01mOSError\u001B[39;00m \u001B[38;5;28;01mas\u001B[39;00m e:\n\u001B[0;32m     83\u001B[0m     \u001B[38;5;28;01mif\u001B[39;00m e\u001B[38;5;241m.\u001B[39merrno \u001B[38;5;241m==\u001B[39m errno\u001B[38;5;241m.\u001B[39mENOENT:\n\u001B[1;32m---> 84\u001B[0m         \u001B[38;5;28;01mraise\u001B[39;00m ExecutableNotFound(cmd) \u001B[38;5;28;01mfrom\u001B[39;00m \u001B[38;5;21;01me\u001B[39;00m\n\u001B[0;32m     85\u001B[0m     \u001B[38;5;28;01mraise\u001B[39;00m\n\u001B[0;32m     87\u001B[0m \u001B[38;5;28;01mif\u001B[39;00m \u001B[38;5;129;01mnot\u001B[39;00m quiet \u001B[38;5;129;01mand\u001B[39;00m proc\u001B[38;5;241m.\u001B[39mstderr:\n",
      "\u001B[1;31mExecutableNotFound\u001B[0m: failed to execute WindowsPath('dot'), make sure the Graphviz executables are on your systems' PATH"
     ]
    },
    {
     "data": {
      "text/plain": "<graphviz.sources.Source at 0x16b30504ee0>"
     },
     "execution_count": 141,
     "metadata": {},
     "output_type": "execute_result"
    }
   ],
   "source": [
    "print(iris.feature_names)\n",
    "dot_data = tree.export_graphviz(dtree,out_file=None)\n",
    "graph = graphviz.Source(dot_data)\n",
    "graph"
   ],
   "metadata": {
    "collapsed": false,
    "ExecuteTime": {
     "start_time": "2023-05-01T20:20:09.911062Z",
     "end_time": "2023-05-01T20:20:10.166070Z"
    }
   }
  },
  {
   "cell_type": "code",
   "execution_count": 142,
   "outputs": [
    {
     "name": "stdout",
     "output_type": "stream",
     "text": [
      "0.8666666666666667\n"
     ]
    },
    {
     "ename": "ExecutableNotFound",
     "evalue": "failed to execute WindowsPath('dot'), make sure the Graphviz executables are on your systems' PATH",
     "output_type": "error",
     "traceback": [
      "\u001B[1;31m---------------------------------------------------------------------------\u001B[0m",
      "\u001B[1;31mFileNotFoundError\u001B[0m                         Traceback (most recent call last)",
      "File \u001B[1;32m~\\anaconda3\\lib\\site-packages\\graphviz\\backend\\execute.py:79\u001B[0m, in \u001B[0;36mrun_check\u001B[1;34m(cmd, input_lines, encoding, quiet, **kwargs)\u001B[0m\n\u001B[0;32m     78\u001B[0m         kwargs[\u001B[38;5;124m'\u001B[39m\u001B[38;5;124mstdout\u001B[39m\u001B[38;5;124m'\u001B[39m] \u001B[38;5;241m=\u001B[39m kwargs[\u001B[38;5;124m'\u001B[39m\u001B[38;5;124mstderr\u001B[39m\u001B[38;5;124m'\u001B[39m] \u001B[38;5;241m=\u001B[39m subprocess\u001B[38;5;241m.\u001B[39mPIPE\n\u001B[1;32m---> 79\u001B[0m     proc \u001B[38;5;241m=\u001B[39m \u001B[43m_run_input_lines\u001B[49m\u001B[43m(\u001B[49m\u001B[43mcmd\u001B[49m\u001B[43m,\u001B[49m\u001B[43m \u001B[49m\u001B[43minput_lines\u001B[49m\u001B[43m,\u001B[49m\u001B[43m \u001B[49m\u001B[43mkwargs\u001B[49m\u001B[38;5;241;43m=\u001B[39;49m\u001B[43mkwargs\u001B[49m\u001B[43m)\u001B[49m\n\u001B[0;32m     80\u001B[0m \u001B[38;5;28;01melse\u001B[39;00m:\n",
      "File \u001B[1;32m~\\anaconda3\\lib\\site-packages\\graphviz\\backend\\execute.py:99\u001B[0m, in \u001B[0;36m_run_input_lines\u001B[1;34m(cmd, input_lines, kwargs)\u001B[0m\n\u001B[0;32m     98\u001B[0m \u001B[38;5;28;01mdef\u001B[39;00m \u001B[38;5;21m_run_input_lines\u001B[39m(cmd, input_lines, \u001B[38;5;241m*\u001B[39m, kwargs):\n\u001B[1;32m---> 99\u001B[0m     popen \u001B[38;5;241m=\u001B[39m subprocess\u001B[38;5;241m.\u001B[39mPopen(cmd, stdin\u001B[38;5;241m=\u001B[39msubprocess\u001B[38;5;241m.\u001B[39mPIPE, \u001B[38;5;241m*\u001B[39m\u001B[38;5;241m*\u001B[39mkwargs)\n\u001B[0;32m    101\u001B[0m     stdin_write \u001B[38;5;241m=\u001B[39m popen\u001B[38;5;241m.\u001B[39mstdin\u001B[38;5;241m.\u001B[39mwrite\n",
      "File \u001B[1;32m~\\anaconda3\\lib\\subprocess.py:951\u001B[0m, in \u001B[0;36mPopen.__init__\u001B[1;34m(self, args, bufsize, executable, stdin, stdout, stderr, preexec_fn, close_fds, shell, cwd, env, universal_newlines, startupinfo, creationflags, restore_signals, start_new_session, pass_fds, user, group, extra_groups, encoding, errors, text, umask)\u001B[0m\n\u001B[0;32m    948\u001B[0m             \u001B[38;5;28mself\u001B[39m\u001B[38;5;241m.\u001B[39mstderr \u001B[38;5;241m=\u001B[39m io\u001B[38;5;241m.\u001B[39mTextIOWrapper(\u001B[38;5;28mself\u001B[39m\u001B[38;5;241m.\u001B[39mstderr,\n\u001B[0;32m    949\u001B[0m                     encoding\u001B[38;5;241m=\u001B[39mencoding, errors\u001B[38;5;241m=\u001B[39merrors)\n\u001B[1;32m--> 951\u001B[0m     \u001B[38;5;28;43mself\u001B[39;49m\u001B[38;5;241;43m.\u001B[39;49m\u001B[43m_execute_child\u001B[49m\u001B[43m(\u001B[49m\u001B[43margs\u001B[49m\u001B[43m,\u001B[49m\u001B[43m \u001B[49m\u001B[43mexecutable\u001B[49m\u001B[43m,\u001B[49m\u001B[43m \u001B[49m\u001B[43mpreexec_fn\u001B[49m\u001B[43m,\u001B[49m\u001B[43m \u001B[49m\u001B[43mclose_fds\u001B[49m\u001B[43m,\u001B[49m\n\u001B[0;32m    952\u001B[0m \u001B[43m                        \u001B[49m\u001B[43mpass_fds\u001B[49m\u001B[43m,\u001B[49m\u001B[43m \u001B[49m\u001B[43mcwd\u001B[49m\u001B[43m,\u001B[49m\u001B[43m \u001B[49m\u001B[43menv\u001B[49m\u001B[43m,\u001B[49m\n\u001B[0;32m    953\u001B[0m \u001B[43m                        \u001B[49m\u001B[43mstartupinfo\u001B[49m\u001B[43m,\u001B[49m\u001B[43m \u001B[49m\u001B[43mcreationflags\u001B[49m\u001B[43m,\u001B[49m\u001B[43m \u001B[49m\u001B[43mshell\u001B[49m\u001B[43m,\u001B[49m\n\u001B[0;32m    954\u001B[0m \u001B[43m                        \u001B[49m\u001B[43mp2cread\u001B[49m\u001B[43m,\u001B[49m\u001B[43m \u001B[49m\u001B[43mp2cwrite\u001B[49m\u001B[43m,\u001B[49m\n\u001B[0;32m    955\u001B[0m \u001B[43m                        \u001B[49m\u001B[43mc2pread\u001B[49m\u001B[43m,\u001B[49m\u001B[43m \u001B[49m\u001B[43mc2pwrite\u001B[49m\u001B[43m,\u001B[49m\n\u001B[0;32m    956\u001B[0m \u001B[43m                        \u001B[49m\u001B[43merrread\u001B[49m\u001B[43m,\u001B[49m\u001B[43m \u001B[49m\u001B[43merrwrite\u001B[49m\u001B[43m,\u001B[49m\n\u001B[0;32m    957\u001B[0m \u001B[43m                        \u001B[49m\u001B[43mrestore_signals\u001B[49m\u001B[43m,\u001B[49m\n\u001B[0;32m    958\u001B[0m \u001B[43m                        \u001B[49m\u001B[43mgid\u001B[49m\u001B[43m,\u001B[49m\u001B[43m \u001B[49m\u001B[43mgids\u001B[49m\u001B[43m,\u001B[49m\u001B[43m \u001B[49m\u001B[43muid\u001B[49m\u001B[43m,\u001B[49m\u001B[43m \u001B[49m\u001B[43mumask\u001B[49m\u001B[43m,\u001B[49m\n\u001B[0;32m    959\u001B[0m \u001B[43m                        \u001B[49m\u001B[43mstart_new_session\u001B[49m\u001B[43m)\u001B[49m\n\u001B[0;32m    960\u001B[0m \u001B[38;5;28;01mexcept\u001B[39;00m:\n\u001B[0;32m    961\u001B[0m     \u001B[38;5;66;03m# Cleanup if the child failed starting.\u001B[39;00m\n",
      "File \u001B[1;32m~\\anaconda3\\lib\\subprocess.py:1420\u001B[0m, in \u001B[0;36mPopen._execute_child\u001B[1;34m(self, args, executable, preexec_fn, close_fds, pass_fds, cwd, env, startupinfo, creationflags, shell, p2cread, p2cwrite, c2pread, c2pwrite, errread, errwrite, unused_restore_signals, unused_gid, unused_gids, unused_uid, unused_umask, unused_start_new_session)\u001B[0m\n\u001B[0;32m   1419\u001B[0m \u001B[38;5;28;01mtry\u001B[39;00m:\n\u001B[1;32m-> 1420\u001B[0m     hp, ht, pid, tid \u001B[38;5;241m=\u001B[39m \u001B[43m_winapi\u001B[49m\u001B[38;5;241;43m.\u001B[39;49m\u001B[43mCreateProcess\u001B[49m\u001B[43m(\u001B[49m\u001B[43mexecutable\u001B[49m\u001B[43m,\u001B[49m\u001B[43m \u001B[49m\u001B[43margs\u001B[49m\u001B[43m,\u001B[49m\n\u001B[0;32m   1421\u001B[0m \u001B[43m                             \u001B[49m\u001B[38;5;66;43;03m# no special security\u001B[39;49;00m\n\u001B[0;32m   1422\u001B[0m \u001B[43m                             \u001B[49m\u001B[38;5;28;43;01mNone\u001B[39;49;00m\u001B[43m,\u001B[49m\u001B[43m \u001B[49m\u001B[38;5;28;43;01mNone\u001B[39;49;00m\u001B[43m,\u001B[49m\n\u001B[0;32m   1423\u001B[0m \u001B[43m                             \u001B[49m\u001B[38;5;28;43mint\u001B[39;49m\u001B[43m(\u001B[49m\u001B[38;5;129;43;01mnot\u001B[39;49;00m\u001B[43m \u001B[49m\u001B[43mclose_fds\u001B[49m\u001B[43m)\u001B[49m\u001B[43m,\u001B[49m\n\u001B[0;32m   1424\u001B[0m \u001B[43m                             \u001B[49m\u001B[43mcreationflags\u001B[49m\u001B[43m,\u001B[49m\n\u001B[0;32m   1425\u001B[0m \u001B[43m                             \u001B[49m\u001B[43menv\u001B[49m\u001B[43m,\u001B[49m\n\u001B[0;32m   1426\u001B[0m \u001B[43m                             \u001B[49m\u001B[43mcwd\u001B[49m\u001B[43m,\u001B[49m\n\u001B[0;32m   1427\u001B[0m \u001B[43m                             \u001B[49m\u001B[43mstartupinfo\u001B[49m\u001B[43m)\u001B[49m\n\u001B[0;32m   1428\u001B[0m \u001B[38;5;28;01mfinally\u001B[39;00m:\n\u001B[0;32m   1429\u001B[0m     \u001B[38;5;66;03m# Child is launched. Close the parent's copy of those pipe\u001B[39;00m\n\u001B[0;32m   1430\u001B[0m     \u001B[38;5;66;03m# handles that only the child should have open.  You need\u001B[39;00m\n\u001B[1;32m   (...)\u001B[0m\n\u001B[0;32m   1433\u001B[0m     \u001B[38;5;66;03m# pipe will not close when the child process exits and the\u001B[39;00m\n\u001B[0;32m   1434\u001B[0m     \u001B[38;5;66;03m# ReadFile will hang.\u001B[39;00m\n",
      "\u001B[1;31mFileNotFoundError\u001B[0m: [WinError 2] The system cannot find the file specified",
      "\nThe above exception was the direct cause of the following exception:\n",
      "\u001B[1;31mExecutableNotFound\u001B[0m                        Traceback (most recent call last)",
      "File \u001B[1;32m~\\anaconda3\\lib\\site-packages\\IPython\\core\\formatters.py:973\u001B[0m, in \u001B[0;36mMimeBundleFormatter.__call__\u001B[1;34m(self, obj, include, exclude)\u001B[0m\n\u001B[0;32m    970\u001B[0m     method \u001B[38;5;241m=\u001B[39m get_real_method(obj, \u001B[38;5;28mself\u001B[39m\u001B[38;5;241m.\u001B[39mprint_method)\n\u001B[0;32m    972\u001B[0m     \u001B[38;5;28;01mif\u001B[39;00m method \u001B[38;5;129;01mis\u001B[39;00m \u001B[38;5;129;01mnot\u001B[39;00m \u001B[38;5;28;01mNone\u001B[39;00m:\n\u001B[1;32m--> 973\u001B[0m         \u001B[38;5;28;01mreturn\u001B[39;00m \u001B[43mmethod\u001B[49m\u001B[43m(\u001B[49m\u001B[43minclude\u001B[49m\u001B[38;5;241;43m=\u001B[39;49m\u001B[43minclude\u001B[49m\u001B[43m,\u001B[49m\u001B[43m \u001B[49m\u001B[43mexclude\u001B[49m\u001B[38;5;241;43m=\u001B[39;49m\u001B[43mexclude\u001B[49m\u001B[43m)\u001B[49m\n\u001B[0;32m    974\u001B[0m     \u001B[38;5;28;01mreturn\u001B[39;00m \u001B[38;5;28;01mNone\u001B[39;00m\n\u001B[0;32m    975\u001B[0m \u001B[38;5;28;01melse\u001B[39;00m:\n",
      "File \u001B[1;32m~\\anaconda3\\lib\\site-packages\\graphviz\\jupyter_integration.py:98\u001B[0m, in \u001B[0;36mJupyterIntegration._repr_mimebundle_\u001B[1;34m(self, include, exclude, **_)\u001B[0m\n\u001B[0;32m     96\u001B[0m include \u001B[38;5;241m=\u001B[39m \u001B[38;5;28mset\u001B[39m(include) \u001B[38;5;28;01mif\u001B[39;00m include \u001B[38;5;129;01mis\u001B[39;00m \u001B[38;5;129;01mnot\u001B[39;00m \u001B[38;5;28;01mNone\u001B[39;00m \u001B[38;5;28;01melse\u001B[39;00m {\u001B[38;5;28mself\u001B[39m\u001B[38;5;241m.\u001B[39m_jupyter_mimetype}\n\u001B[0;32m     97\u001B[0m include \u001B[38;5;241m-\u001B[39m\u001B[38;5;241m=\u001B[39m \u001B[38;5;28mset\u001B[39m(exclude \u001B[38;5;129;01mor\u001B[39;00m [])\n\u001B[1;32m---> 98\u001B[0m \u001B[38;5;28;01mreturn\u001B[39;00m {mimetype: \u001B[38;5;28mgetattr\u001B[39m(\u001B[38;5;28mself\u001B[39m, method_name)()\n\u001B[0;32m     99\u001B[0m         \u001B[38;5;28;01mfor\u001B[39;00m mimetype, method_name \u001B[38;5;129;01min\u001B[39;00m MIME_TYPES\u001B[38;5;241m.\u001B[39mitems()\n\u001B[0;32m    100\u001B[0m         \u001B[38;5;28;01mif\u001B[39;00m mimetype \u001B[38;5;129;01min\u001B[39;00m include}\n",
      "File \u001B[1;32m~\\anaconda3\\lib\\site-packages\\graphviz\\jupyter_integration.py:98\u001B[0m, in \u001B[0;36m<dictcomp>\u001B[1;34m(.0)\u001B[0m\n\u001B[0;32m     96\u001B[0m include \u001B[38;5;241m=\u001B[39m \u001B[38;5;28mset\u001B[39m(include) \u001B[38;5;28;01mif\u001B[39;00m include \u001B[38;5;129;01mis\u001B[39;00m \u001B[38;5;129;01mnot\u001B[39;00m \u001B[38;5;28;01mNone\u001B[39;00m \u001B[38;5;28;01melse\u001B[39;00m {\u001B[38;5;28mself\u001B[39m\u001B[38;5;241m.\u001B[39m_jupyter_mimetype}\n\u001B[0;32m     97\u001B[0m include \u001B[38;5;241m-\u001B[39m\u001B[38;5;241m=\u001B[39m \u001B[38;5;28mset\u001B[39m(exclude \u001B[38;5;129;01mor\u001B[39;00m [])\n\u001B[1;32m---> 98\u001B[0m \u001B[38;5;28;01mreturn\u001B[39;00m {mimetype: \u001B[38;5;28;43mgetattr\u001B[39;49m\u001B[43m(\u001B[49m\u001B[38;5;28;43mself\u001B[39;49m\u001B[43m,\u001B[49m\u001B[43m \u001B[49m\u001B[43mmethod_name\u001B[49m\u001B[43m)\u001B[49m\u001B[43m(\u001B[49m\u001B[43m)\u001B[49m\n\u001B[0;32m     99\u001B[0m         \u001B[38;5;28;01mfor\u001B[39;00m mimetype, method_name \u001B[38;5;129;01min\u001B[39;00m MIME_TYPES\u001B[38;5;241m.\u001B[39mitems()\n\u001B[0;32m    100\u001B[0m         \u001B[38;5;28;01mif\u001B[39;00m mimetype \u001B[38;5;129;01min\u001B[39;00m include}\n",
      "File \u001B[1;32m~\\anaconda3\\lib\\site-packages\\graphviz\\jupyter_integration.py:112\u001B[0m, in \u001B[0;36mJupyterIntegration._repr_image_svg_xml\u001B[1;34m(self)\u001B[0m\n\u001B[0;32m    110\u001B[0m \u001B[38;5;28;01mdef\u001B[39;00m \u001B[38;5;21m_repr_image_svg_xml\u001B[39m(\u001B[38;5;28mself\u001B[39m) \u001B[38;5;241m-\u001B[39m\u001B[38;5;241m>\u001B[39m \u001B[38;5;28mstr\u001B[39m:\n\u001B[0;32m    111\u001B[0m     \u001B[38;5;124;03m\"\"\"Return the rendered graph as SVG string.\"\"\"\u001B[39;00m\n\u001B[1;32m--> 112\u001B[0m     \u001B[38;5;28;01mreturn\u001B[39;00m \u001B[38;5;28;43mself\u001B[39;49m\u001B[38;5;241;43m.\u001B[39;49m\u001B[43mpipe\u001B[49m\u001B[43m(\u001B[49m\u001B[38;5;28;43mformat\u001B[39;49m\u001B[38;5;241;43m=\u001B[39;49m\u001B[38;5;124;43m'\u001B[39;49m\u001B[38;5;124;43msvg\u001B[39;49m\u001B[38;5;124;43m'\u001B[39;49m\u001B[43m,\u001B[49m\u001B[43m \u001B[49m\u001B[43mencoding\u001B[49m\u001B[38;5;241;43m=\u001B[39;49m\u001B[43mSVG_ENCODING\u001B[49m\u001B[43m)\u001B[49m\n",
      "File \u001B[1;32m~\\anaconda3\\lib\\site-packages\\graphviz\\piping.py:104\u001B[0m, in \u001B[0;36mPipe.pipe\u001B[1;34m(self, format, renderer, formatter, neato_no_op, quiet, engine, encoding)\u001B[0m\n\u001B[0;32m     55\u001B[0m \u001B[38;5;28;01mdef\u001B[39;00m \u001B[38;5;21mpipe\u001B[39m(\u001B[38;5;28mself\u001B[39m,\n\u001B[0;32m     56\u001B[0m          \u001B[38;5;28mformat\u001B[39m: typing\u001B[38;5;241m.\u001B[39mOptional[\u001B[38;5;28mstr\u001B[39m] \u001B[38;5;241m=\u001B[39m \u001B[38;5;28;01mNone\u001B[39;00m,\n\u001B[0;32m     57\u001B[0m          renderer: typing\u001B[38;5;241m.\u001B[39mOptional[\u001B[38;5;28mstr\u001B[39m] \u001B[38;5;241m=\u001B[39m \u001B[38;5;28;01mNone\u001B[39;00m,\n\u001B[1;32m   (...)\u001B[0m\n\u001B[0;32m     61\u001B[0m          engine: typing\u001B[38;5;241m.\u001B[39mOptional[\u001B[38;5;28mstr\u001B[39m] \u001B[38;5;241m=\u001B[39m \u001B[38;5;28;01mNone\u001B[39;00m,\n\u001B[0;32m     62\u001B[0m          encoding: typing\u001B[38;5;241m.\u001B[39mOptional[\u001B[38;5;28mstr\u001B[39m] \u001B[38;5;241m=\u001B[39m \u001B[38;5;28;01mNone\u001B[39;00m) \u001B[38;5;241m-\u001B[39m\u001B[38;5;241m>\u001B[39m typing\u001B[38;5;241m.\u001B[39mUnion[\u001B[38;5;28mbytes\u001B[39m, \u001B[38;5;28mstr\u001B[39m]:\n\u001B[0;32m     63\u001B[0m     \u001B[38;5;124;03m\"\"\"Return the source piped through the Graphviz layout command.\u001B[39;00m\n\u001B[0;32m     64\u001B[0m \n\u001B[0;32m     65\u001B[0m \u001B[38;5;124;03m    Args:\u001B[39;00m\n\u001B[1;32m   (...)\u001B[0m\n\u001B[0;32m    102\u001B[0m \u001B[38;5;124;03m        '<?xml version='\u001B[39;00m\n\u001B[0;32m    103\u001B[0m \u001B[38;5;124;03m    \"\"\"\u001B[39;00m\n\u001B[1;32m--> 104\u001B[0m     \u001B[38;5;28;01mreturn\u001B[39;00m \u001B[38;5;28;43mself\u001B[39;49m\u001B[38;5;241;43m.\u001B[39;49m\u001B[43m_pipe_legacy\u001B[49m\u001B[43m(\u001B[49m\u001B[38;5;28;43mformat\u001B[39;49m\u001B[43m,\u001B[49m\n\u001B[0;32m    105\u001B[0m \u001B[43m                             \u001B[49m\u001B[43mrenderer\u001B[49m\u001B[38;5;241;43m=\u001B[39;49m\u001B[43mrenderer\u001B[49m\u001B[43m,\u001B[49m\n\u001B[0;32m    106\u001B[0m \u001B[43m                             \u001B[49m\u001B[43mformatter\u001B[49m\u001B[38;5;241;43m=\u001B[39;49m\u001B[43mformatter\u001B[49m\u001B[43m,\u001B[49m\n\u001B[0;32m    107\u001B[0m \u001B[43m                             \u001B[49m\u001B[43mneato_no_op\u001B[49m\u001B[38;5;241;43m=\u001B[39;49m\u001B[43mneato_no_op\u001B[49m\u001B[43m,\u001B[49m\n\u001B[0;32m    108\u001B[0m \u001B[43m                             \u001B[49m\u001B[43mquiet\u001B[49m\u001B[38;5;241;43m=\u001B[39;49m\u001B[43mquiet\u001B[49m\u001B[43m,\u001B[49m\n\u001B[0;32m    109\u001B[0m \u001B[43m                             \u001B[49m\u001B[43mengine\u001B[49m\u001B[38;5;241;43m=\u001B[39;49m\u001B[43mengine\u001B[49m\u001B[43m,\u001B[49m\n\u001B[0;32m    110\u001B[0m \u001B[43m                             \u001B[49m\u001B[43mencoding\u001B[49m\u001B[38;5;241;43m=\u001B[39;49m\u001B[43mencoding\u001B[49m\u001B[43m)\u001B[49m\n",
      "File \u001B[1;32m~\\anaconda3\\lib\\site-packages\\graphviz\\_tools.py:171\u001B[0m, in \u001B[0;36mdeprecate_positional_args.<locals>.decorator.<locals>.wrapper\u001B[1;34m(*args, **kwargs)\u001B[0m\n\u001B[0;32m    162\u001B[0m     wanted \u001B[38;5;241m=\u001B[39m \u001B[38;5;124m'\u001B[39m\u001B[38;5;124m, \u001B[39m\u001B[38;5;124m'\u001B[39m\u001B[38;5;241m.\u001B[39mjoin(\u001B[38;5;124mf\u001B[39m\u001B[38;5;124m'\u001B[39m\u001B[38;5;132;01m{\u001B[39;00mname\u001B[38;5;132;01m}\u001B[39;00m\u001B[38;5;124m=\u001B[39m\u001B[38;5;132;01m{\u001B[39;00mvalue\u001B[38;5;132;01m!r}\u001B[39;00m\u001B[38;5;124m'\u001B[39m\n\u001B[0;32m    163\u001B[0m                        \u001B[38;5;28;01mfor\u001B[39;00m name, value \u001B[38;5;129;01min\u001B[39;00m deprecated\u001B[38;5;241m.\u001B[39mitems())\n\u001B[0;32m    164\u001B[0m     warnings\u001B[38;5;241m.\u001B[39mwarn(\u001B[38;5;124mf\u001B[39m\u001B[38;5;124m'\u001B[39m\u001B[38;5;124mThe signature of \u001B[39m\u001B[38;5;132;01m{\u001B[39;00mfunc\u001B[38;5;241m.\u001B[39m\u001B[38;5;18m__name__\u001B[39m\u001B[38;5;132;01m}\u001B[39;00m\u001B[38;5;124m will be reduced\u001B[39m\u001B[38;5;124m'\u001B[39m\n\u001B[0;32m    165\u001B[0m                   \u001B[38;5;124mf\u001B[39m\u001B[38;5;124m'\u001B[39m\u001B[38;5;124m to \u001B[39m\u001B[38;5;132;01m{\u001B[39;00msupported_number\u001B[38;5;132;01m}\u001B[39;00m\u001B[38;5;124m positional args\u001B[39m\u001B[38;5;124m'\u001B[39m\n\u001B[0;32m    166\u001B[0m                   \u001B[38;5;124mf\u001B[39m\u001B[38;5;124m'\u001B[39m\u001B[38;5;124m \u001B[39m\u001B[38;5;132;01m{\u001B[39;00m\u001B[38;5;28mlist\u001B[39m(supported)\u001B[38;5;132;01m}\u001B[39;00m\u001B[38;5;124m: pass \u001B[39m\u001B[38;5;132;01m{\u001B[39;00mwanted\u001B[38;5;132;01m}\u001B[39;00m\u001B[38;5;124m'\u001B[39m\n\u001B[0;32m    167\u001B[0m                   \u001B[38;5;124m'\u001B[39m\u001B[38;5;124m as keyword arg(s)\u001B[39m\u001B[38;5;124m'\u001B[39m,\n\u001B[0;32m    168\u001B[0m                   stacklevel\u001B[38;5;241m=\u001B[39mstacklevel,\n\u001B[0;32m    169\u001B[0m                   category\u001B[38;5;241m=\u001B[39mcategory)\n\u001B[1;32m--> 171\u001B[0m \u001B[38;5;28;01mreturn\u001B[39;00m func(\u001B[38;5;241m*\u001B[39margs, \u001B[38;5;241m*\u001B[39m\u001B[38;5;241m*\u001B[39mkwargs)\n",
      "File \u001B[1;32m~\\anaconda3\\lib\\site-packages\\graphviz\\piping.py:121\u001B[0m, in \u001B[0;36mPipe._pipe_legacy\u001B[1;34m(self, format, renderer, formatter, neato_no_op, quiet, engine, encoding)\u001B[0m\n\u001B[0;32m    112\u001B[0m \u001B[38;5;129m@_tools\u001B[39m\u001B[38;5;241m.\u001B[39mdeprecate_positional_args(supported_number\u001B[38;5;241m=\u001B[39m\u001B[38;5;241m2\u001B[39m)\n\u001B[0;32m    113\u001B[0m \u001B[38;5;28;01mdef\u001B[39;00m \u001B[38;5;21m_pipe_legacy\u001B[39m(\u001B[38;5;28mself\u001B[39m,\n\u001B[0;32m    114\u001B[0m                  \u001B[38;5;28mformat\u001B[39m: typing\u001B[38;5;241m.\u001B[39mOptional[\u001B[38;5;28mstr\u001B[39m] \u001B[38;5;241m=\u001B[39m \u001B[38;5;28;01mNone\u001B[39;00m,\n\u001B[1;32m   (...)\u001B[0m\n\u001B[0;32m    119\u001B[0m                  engine: typing\u001B[38;5;241m.\u001B[39mOptional[\u001B[38;5;28mstr\u001B[39m] \u001B[38;5;241m=\u001B[39m \u001B[38;5;28;01mNone\u001B[39;00m,\n\u001B[0;32m    120\u001B[0m                  encoding: typing\u001B[38;5;241m.\u001B[39mOptional[\u001B[38;5;28mstr\u001B[39m] \u001B[38;5;241m=\u001B[39m \u001B[38;5;28;01mNone\u001B[39;00m) \u001B[38;5;241m-\u001B[39m\u001B[38;5;241m>\u001B[39m typing\u001B[38;5;241m.\u001B[39mUnion[\u001B[38;5;28mbytes\u001B[39m, \u001B[38;5;28mstr\u001B[39m]:\n\u001B[1;32m--> 121\u001B[0m     \u001B[38;5;28;01mreturn\u001B[39;00m \u001B[38;5;28;43mself\u001B[39;49m\u001B[38;5;241;43m.\u001B[39;49m\u001B[43m_pipe_future\u001B[49m\u001B[43m(\u001B[49m\u001B[38;5;28;43mformat\u001B[39;49m\u001B[43m,\u001B[49m\n\u001B[0;32m    122\u001B[0m \u001B[43m                             \u001B[49m\u001B[43mrenderer\u001B[49m\u001B[38;5;241;43m=\u001B[39;49m\u001B[43mrenderer\u001B[49m\u001B[43m,\u001B[49m\n\u001B[0;32m    123\u001B[0m \u001B[43m                             \u001B[49m\u001B[43mformatter\u001B[49m\u001B[38;5;241;43m=\u001B[39;49m\u001B[43mformatter\u001B[49m\u001B[43m,\u001B[49m\n\u001B[0;32m    124\u001B[0m \u001B[43m                             \u001B[49m\u001B[43mneato_no_op\u001B[49m\u001B[38;5;241;43m=\u001B[39;49m\u001B[43mneato_no_op\u001B[49m\u001B[43m,\u001B[49m\n\u001B[0;32m    125\u001B[0m \u001B[43m                             \u001B[49m\u001B[43mquiet\u001B[49m\u001B[38;5;241;43m=\u001B[39;49m\u001B[43mquiet\u001B[49m\u001B[43m,\u001B[49m\n\u001B[0;32m    126\u001B[0m \u001B[43m                             \u001B[49m\u001B[43mengine\u001B[49m\u001B[38;5;241;43m=\u001B[39;49m\u001B[43mengine\u001B[49m\u001B[43m,\u001B[49m\n\u001B[0;32m    127\u001B[0m \u001B[43m                             \u001B[49m\u001B[43mencoding\u001B[49m\u001B[38;5;241;43m=\u001B[39;49m\u001B[43mencoding\u001B[49m\u001B[43m)\u001B[49m\n",
      "File \u001B[1;32m~\\anaconda3\\lib\\site-packages\\graphviz\\piping.py:149\u001B[0m, in \u001B[0;36mPipe._pipe_future\u001B[1;34m(self, format, renderer, formatter, neato_no_op, quiet, engine, encoding)\u001B[0m\n\u001B[0;32m    146\u001B[0m \u001B[38;5;28;01mif\u001B[39;00m encoding \u001B[38;5;129;01mis\u001B[39;00m \u001B[38;5;129;01mnot\u001B[39;00m \u001B[38;5;28;01mNone\u001B[39;00m:\n\u001B[0;32m    147\u001B[0m     \u001B[38;5;28;01mif\u001B[39;00m codecs\u001B[38;5;241m.\u001B[39mlookup(encoding) \u001B[38;5;129;01mis\u001B[39;00m codecs\u001B[38;5;241m.\u001B[39mlookup(\u001B[38;5;28mself\u001B[39m\u001B[38;5;241m.\u001B[39mencoding):\n\u001B[0;32m    148\u001B[0m         \u001B[38;5;66;03m# common case: both stdin and stdout need the same encoding\u001B[39;00m\n\u001B[1;32m--> 149\u001B[0m         \u001B[38;5;28;01mreturn\u001B[39;00m \u001B[38;5;28mself\u001B[39m\u001B[38;5;241m.\u001B[39m_pipe_lines_string(\u001B[38;5;241m*\u001B[39margs, encoding\u001B[38;5;241m=\u001B[39mencoding, \u001B[38;5;241m*\u001B[39m\u001B[38;5;241m*\u001B[39mkwargs)\n\u001B[0;32m    150\u001B[0m     \u001B[38;5;28;01mtry\u001B[39;00m:\n\u001B[0;32m    151\u001B[0m         raw \u001B[38;5;241m=\u001B[39m \u001B[38;5;28mself\u001B[39m\u001B[38;5;241m.\u001B[39m_pipe_lines(\u001B[38;5;241m*\u001B[39margs, input_encoding\u001B[38;5;241m=\u001B[39m\u001B[38;5;28mself\u001B[39m\u001B[38;5;241m.\u001B[39mencoding, \u001B[38;5;241m*\u001B[39m\u001B[38;5;241m*\u001B[39mkwargs)\n",
      "File \u001B[1;32m~\\anaconda3\\lib\\site-packages\\graphviz\\backend\\piping.py:212\u001B[0m, in \u001B[0;36mpipe_lines_string\u001B[1;34m(engine, format, input_lines, encoding, renderer, formatter, neato_no_op, quiet)\u001B[0m\n\u001B[0;32m    206\u001B[0m cmd \u001B[38;5;241m=\u001B[39m dot_command\u001B[38;5;241m.\u001B[39mcommand(engine, \u001B[38;5;28mformat\u001B[39m,\n\u001B[0;32m    207\u001B[0m                           renderer\u001B[38;5;241m=\u001B[39mrenderer,\n\u001B[0;32m    208\u001B[0m                           formatter\u001B[38;5;241m=\u001B[39mformatter,\n\u001B[0;32m    209\u001B[0m                           neato_no_op\u001B[38;5;241m=\u001B[39mneato_no_op)\n\u001B[0;32m    210\u001B[0m kwargs \u001B[38;5;241m=\u001B[39m {\u001B[38;5;124m'\u001B[39m\u001B[38;5;124minput_lines\u001B[39m\u001B[38;5;124m'\u001B[39m: input_lines, \u001B[38;5;124m'\u001B[39m\u001B[38;5;124mencoding\u001B[39m\u001B[38;5;124m'\u001B[39m: encoding}\n\u001B[1;32m--> 212\u001B[0m proc \u001B[38;5;241m=\u001B[39m execute\u001B[38;5;241m.\u001B[39mrun_check(cmd, capture_output\u001B[38;5;241m=\u001B[39m\u001B[38;5;28;01mTrue\u001B[39;00m, quiet\u001B[38;5;241m=\u001B[39mquiet, \u001B[38;5;241m*\u001B[39m\u001B[38;5;241m*\u001B[39mkwargs)\n\u001B[0;32m    213\u001B[0m \u001B[38;5;28;01mreturn\u001B[39;00m proc\u001B[38;5;241m.\u001B[39mstdout\n",
      "File \u001B[1;32m~\\anaconda3\\lib\\site-packages\\graphviz\\backend\\execute.py:84\u001B[0m, in \u001B[0;36mrun_check\u001B[1;34m(cmd, input_lines, encoding, quiet, **kwargs)\u001B[0m\n\u001B[0;32m     82\u001B[0m \u001B[38;5;28;01mexcept\u001B[39;00m \u001B[38;5;167;01mOSError\u001B[39;00m \u001B[38;5;28;01mas\u001B[39;00m e:\n\u001B[0;32m     83\u001B[0m     \u001B[38;5;28;01mif\u001B[39;00m e\u001B[38;5;241m.\u001B[39merrno \u001B[38;5;241m==\u001B[39m errno\u001B[38;5;241m.\u001B[39mENOENT:\n\u001B[1;32m---> 84\u001B[0m         \u001B[38;5;28;01mraise\u001B[39;00m ExecutableNotFound(cmd) \u001B[38;5;28;01mfrom\u001B[39;00m \u001B[38;5;21;01me\u001B[39;00m\n\u001B[0;32m     85\u001B[0m     \u001B[38;5;28;01mraise\u001B[39;00m\n\u001B[0;32m     87\u001B[0m \u001B[38;5;28;01mif\u001B[39;00m \u001B[38;5;129;01mnot\u001B[39;00m quiet \u001B[38;5;129;01mand\u001B[39;00m proc\u001B[38;5;241m.\u001B[39mstderr:\n",
      "\u001B[1;31mExecutableNotFound\u001B[0m: failed to execute WindowsPath('dot'), make sure the Graphviz executables are on your systems' PATH"
     ]
    },
    {
     "data": {
      "text/plain": "<graphviz.sources.Source at 0x16b305047c0>"
     },
     "execution_count": 142,
     "metadata": {},
     "output_type": "execute_result"
    }
   ],
   "source": [
    "dtree2 = tree.DecisionTreeClassifier(max_depth=2)\n",
    "dtree2 = dtree2.fit(X_train, y_train)\n",
    "print(dtree2.score(X_test, y_test))\n",
    "dot_data2 = tree.export_graphviz(dtree2,out_file=None)\n",
    "graph2 = graphviz.Source(dot_data2)\n",
    "graph2"
   ],
   "metadata": {
    "collapsed": false,
    "ExecuteTime": {
     "start_time": "2023-05-01T20:20:13.507315Z",
     "end_time": "2023-05-01T20:20:13.762404Z"
    }
   }
  },
  {
   "cell_type": "markdown",
   "source": [
    "Program di atas menggunakan decision tree classifier dari library scikit-learn untuk melakukan klasifikasi pada dataset iris yang telah dipisahkan menjadi data training dan data testing. Pertama-tama, decision tree classifier diinisialisasi dan dilatih dengan data training. Kemudian, dilakukan prediksi pada data testing dan diperoleh nilai akurasi, confusion matrix, precision, recall, dan f1-score sebagai evaluasi kinerja dari model klasifikasi tersebut. Selanjutnya, dilakukan visualisasi decision tree yang dihasilkan menggunakan library graphviz. Selain itu, dilakukan juga percobaan dengan membatasi kedalaman (max_depth) dari decision tree dan dilakukan visualisasi decision tree tersebut."
   ],
   "metadata": {
    "collapsed": false
   }
  },
  {
   "cell_type": "markdown",
   "source": [
    "## k-NN Classification"
   ],
   "metadata": {
    "collapsed": false
   }
  },
  {
   "cell_type": "code",
   "execution_count": 49,
   "outputs": [
    {
     "name": "stdout",
     "output_type": "stream",
     "text": [
      "classifier score:  0.9333333333333333\n"
     ]
    }
   ],
   "source": [
    "knn = KNeighborsClassifier(n_neighbors=3)\n",
    "knn.fit(X_train, y_train)\n",
    "print('classifier score: ', knn.score(X_test, y_test))\n",
    "y_pred = knn.predict(X_test)"
   ],
   "metadata": {
    "collapsed": false,
    "ExecuteTime": {
     "start_time": "2023-05-01T15:49:26.136091Z",
     "end_time": "2023-05-01T15:49:26.183469Z"
    }
   }
  },
  {
   "cell_type": "code",
   "execution_count": null,
   "outputs": [],
   "source": [
    "print(\"\\naccuracy:\",metrics.accuracy_score(y_test,y_pred))\n",
    "print(\"\\nConfusion matrix\")\n",
    "print(metrics.confusion_matrix(y_test,y_pred))\n",
    "print(\"\\nPrecision Score # class\")\n",
    "print(metrics.precision_score(y_test,y_pred,average=None))\n",
    "print(\"\\nAverage Precision Score\")\n",
    "print(metrics.precision_score(y_test,y_pred,average='weighted'))\n",
    "print(\"\\nRecall Score per class\")\n",
    "print(metrics.recall_score(y_test,y_pred,average=None))\n",
    "print(\"\\nAverage Recall Score\")\n",
    "print(metrics.recall_score(y_test,y_pred,average='weighted'))\n",
    "print(\"\\nF1-score Score per class\")\n",
    "print(metrics.f1_score(y_test,y_pred,average=None))\n",
    "print(\"\\nAverage F1 Score\")\n",
    "print(metrics.f1_score(y_test,y_pred,average='weighted'))"
   ],
   "metadata": {
    "collapsed": false
   }
  },
  {
   "cell_type": "markdown",
   "source": [
    "Program di atas menggunakan K-Nearest Neighbors Classifier (KNN) dari library scikit-learn untuk melakukan klasifikasi pada dataset iris yang telah dipisahkan menjadi data training dan data testing. Pada program ini, KNN diinisialisasi dengan nilai K=3, dilatih dengan data training, dan kemudian dilakukan prediksi pada data testing. Hasil prediksi digunakan untuk menghitung berbagai metrik evaluasi kinerja model klasifikasi seperti akurasi, confusion matrix, precision, recall, dan f1-score. Metrik-metrik tersebut digunakan untuk mengevaluasi kinerja model dan menentukan seberapa baik model tersebut dalam melakukan klasifikasi pada dataset iris."
   ],
   "metadata": {
    "collapsed": false
   }
  },
  {
   "cell_type": "markdown",
   "source": [
    "## SVM Classification"
   ],
   "metadata": {
    "collapsed": false
   }
  },
  {
   "cell_type": "code",
   "execution_count": 51,
   "outputs": [
    {
     "name": "stdout",
     "output_type": "stream",
     "text": [
      "classifier score:  0.9333333333333333\n"
     ]
    }
   ],
   "source": [
    "svm_clf = svm.SVC()\n",
    "svm_clf.fit(X_train, y_train)\n",
    "print('classifier score: ', svm_clf.score(X_test, y_test))\n",
    "y_pred = svm_clf.predict(X_test)"
   ],
   "metadata": {
    "collapsed": false,
    "ExecuteTime": {
     "start_time": "2023-05-01T15:51:33.631123Z",
     "end_time": "2023-05-01T15:51:33.673808Z"
    }
   }
  },
  {
   "cell_type": "code",
   "execution_count": 52,
   "outputs": [
    {
     "name": "stdout",
     "output_type": "stream",
     "text": [
      "\n",
      "accuracy: 0.9333333333333333\n",
      "\n",
      "Confusion matrix\n",
      "[[16  0  0]\n",
      " [ 0 22  1]\n",
      " [ 0  3 18]]\n",
      "\n",
      "Precision Score # class\n",
      "[1.         0.88       0.94736842]\n",
      "\n",
      "Average Precision Score\n",
      "0.935578947368421\n",
      "\n",
      "Recall Score per class\n",
      "[1.         0.95652174 0.85714286]\n",
      "\n",
      "Average Recall Score\n",
      "0.9333333333333333\n",
      "\n",
      "F1-score Score per class\n",
      "[1.         0.91666667 0.9       ]\n",
      "\n",
      "Average F1 Score\n",
      "0.9330555555555555\n"
     ]
    }
   ],
   "source": [
    "print(\"\\naccuracy:\",metrics.accuracy_score(y_test,y_pred))\n",
    "print(\"\\nConfusion matrix\")\n",
    "print(metrics.confusion_matrix(y_test,y_pred))\n",
    "print(\"\\nPrecision Score # class\")\n",
    "print(metrics.precision_score(y_test,y_pred,average=None))\n",
    "print(\"\\nAverage Precision Score\")\n",
    "print(metrics.precision_score(y_test,y_pred,average='weighted'))\n",
    "print(\"\\nRecall Score per class\")\n",
    "print(metrics.recall_score(y_test,y_pred,average=None))\n",
    "print(\"\\nAverage Recall Score\")\n",
    "print(metrics.recall_score(y_test,y_pred,average='weighted'))\n",
    "print(\"\\nF1-score Score per class\")\n",
    "print(metrics.f1_score(y_test,y_pred,average=None))\n",
    "print(\"\\nAverage F1 Score\")\n",
    "print(metrics.f1_score(y_test,y_pred,average='weighted'))"
   ],
   "metadata": {
    "collapsed": false,
    "ExecuteTime": {
     "start_time": "2023-05-01T15:52:14.677915Z",
     "end_time": "2023-05-01T15:52:14.738347Z"
    }
   }
  },
  {
   "cell_type": "markdown",
   "source": [
    "Program di atas menggunakan Support Vector Machine (SVM) dari library scikit-learn untuk melakukan klasifikasi pada dataset iris yang telah dipisahkan menjadi data training dan data testing. Pada program ini, SVM diinisialisasi dengan kernel default 'rbf', dilatih dengan data training, dan kemudian dilakukan prediksi pada data testing. Hasil prediksi digunakan untuk menghitung berbagai metrik evaluasi kinerja model klasifikasi seperti akurasi, confusion matrix, precision, recall, dan f1-score. Metrik-metrik tersebut digunakan untuk mengevaluasi kinerja model dan menentukan seberapa baik model tersebut dalam melakukan klasifikasi pada dataset iris."
   ],
   "metadata": {
    "collapsed": false
   }
  },
  {
   "cell_type": "markdown",
   "source": [
    "## Logistic Regression"
   ],
   "metadata": {
    "collapsed": false
   }
  },
  {
   "cell_type": "code",
   "execution_count": 53,
   "outputs": [
    {
     "name": "stdout",
     "output_type": "stream",
     "text": [
      "classifier score:  0.9166666666666666\n"
     ]
    }
   ],
   "source": [
    "lr_clf = linear_model.LogisticRegression(solver='lbfgs')\n",
    "lr_clf.fit(X_train, y_train)\n",
    "print('classifier score: ', lr_clf.score(X_test, y_test))\n",
    "y_pred = lr_clf.predict(X_test)"
   ],
   "metadata": {
    "collapsed": false,
    "ExecuteTime": {
     "start_time": "2023-05-01T15:53:10.735101Z",
     "end_time": "2023-05-01T15:53:10.819188Z"
    }
   }
  },
  {
   "cell_type": "code",
   "execution_count": 54,
   "outputs": [
    {
     "name": "stdout",
     "output_type": "stream",
     "text": [
      "\n",
      "accuracy: 0.9166666666666666\n",
      "\n",
      "Confusion matrix\n",
      "[[16  0  0]\n",
      " [ 0 22  1]\n",
      " [ 0  4 17]]\n",
      "\n",
      "Precision Score # class\n",
      "[1.         0.84615385 0.94444444]\n",
      "\n",
      "Average Precision Score\n",
      "0.9215811965811966\n",
      "\n",
      "Recall Score per class\n",
      "[1.         0.95652174 0.80952381]\n",
      "\n",
      "Average Recall Score\n",
      "0.9166666666666666\n",
      "\n",
      "F1-score Score per class\n",
      "[1.         0.89795918 0.87179487]\n",
      "\n",
      "Average F1 Score\n",
      "0.9160125588697017\n"
     ]
    }
   ],
   "source": [
    "print(\"\\naccuracy:\",metrics.accuracy_score(y_test,y_pred))\n",
    "print(\"\\nConfusion matrix\")\n",
    "print(metrics.confusion_matrix(y_test,y_pred))\n",
    "print(\"\\nPrecision Score # class\")\n",
    "print(metrics.precision_score(y_test,y_pred,average=None))\n",
    "print(\"\\nAverage Precision Score\")\n",
    "print(metrics.precision_score(y_test,y_pred,average='weighted'))\n",
    "print(\"\\nRecall Score per class\")\n",
    "print(metrics.recall_score(y_test,y_pred,average=None))\n",
    "print(\"\\nAverage Recall Score\")\n",
    "print(metrics.recall_score(y_test,y_pred,average='weighted'))\n",
    "print(\"\\nF1-score Score per class\")\n",
    "print(metrics.f1_score(y_test,y_pred,average=None))\n",
    "print(\"\\nAverage F1 Score\")\n",
    "print(metrics.f1_score(y_test,y_pred,average='weighted'))"
   ],
   "metadata": {
    "collapsed": false,
    "ExecuteTime": {
     "start_time": "2023-05-01T15:54:03.093353Z",
     "end_time": "2023-05-01T15:54:03.149408Z"
    }
   }
  },
  {
   "cell_type": "code",
   "execution_count": 55,
   "outputs": [
    {
     "name": "stdout",
     "output_type": "stream",
     "text": [
      "Class probabilities (first 10):\n",
      "[[3.31268620e-04 1.22812781e-01 8.76855950e-01]\n",
      " [1.49073654e-02 9.68438212e-01 1.66544226e-02]\n",
      " [9.87117165e-01 1.28825421e-02 2.92956825e-07]\n",
      " [3.90825443e-06 4.07650404e-02 9.59231051e-01]\n",
      " [9.70874163e-01 2.91252304e-02 6.06746470e-07]\n",
      " [6.11405884e-06 1.15477255e-02 9.88446160e-01]\n",
      " [9.82263653e-01 1.77360426e-02 3.04444893e-07]\n",
      " [4.18438945e-03 7.27172729e-01 2.68642882e-01]\n",
      " [2.31528228e-03 7.61349535e-01 2.36335183e-01]\n",
      " [2.61148376e-02 9.31808632e-01 4.20765306e-02]]\n",
      "[2 1 0 2 0 2 0 1 1 1]\n",
      "[2 1 0 2 0 2 0 1 1 1]\n",
      "[0.87685595 0.96843821 0.98711716 0.95923105 0.97087416 0.98844616\n",
      " 0.98226365 0.72717273 0.76134953 0.93180863]\n"
     ]
    }
   ],
   "source": [
    "probs = lr_clf.predict_proba(X_test)\n",
    "print('Class probabilities (first 10):')\n",
    "print(probs[:10])\n",
    "print(y_test[:10])\n",
    "print(probs.argmax(axis=1)[:10])\n",
    "print(probs.max(axis=1)[:10])"
   ],
   "metadata": {
    "collapsed": false,
    "ExecuteTime": {
     "start_time": "2023-05-01T15:55:15.959441Z",
     "end_time": "2023-05-01T15:55:16.005917Z"
    }
   }
  },
  {
   "cell_type": "code",
   "execution_count": 56,
   "outputs": [
    {
     "name": "stdout",
     "output_type": "stream",
     "text": [
      "[[-0.4485156   0.66924079 -2.14532259 -0.93004376]\n",
      " [ 0.34220426 -0.60945965 -0.09809056 -0.63356767]\n",
      " [ 0.10631134 -0.05978115  2.24341315  1.56361143]]\n"
     ]
    }
   ],
   "source": [
    "print(lr_clf.coef_)"
   ],
   "metadata": {
    "collapsed": false,
    "ExecuteTime": {
     "start_time": "2023-05-01T15:55:25.184510Z",
     "end_time": "2023-05-01T15:55:25.209907Z"
    }
   }
  },
  {
   "cell_type": "markdown",
   "source": [
    "Program di atas melakukan pelatihan model klasifikasi regresi logistik (logistic regression) menggunakan data yang diberikan. Setelah model dilatih, performa model dihitung dengan menggunakan metrik seperti akurasi, presisi, recall, dan F1-score. Selain itu, dilakukan juga perhitungan probabilitas kelas dan koefisien regresi logistik pada model yang dilatih."
   ],
   "metadata": {
    "collapsed": false
   }
  },
  {
   "cell_type": "markdown",
   "source": [
    "## Linear Regression"
   ],
   "metadata": {
    "collapsed": false
   }
  },
  {
   "cell_type": "code",
   "execution_count": 58,
   "outputs": [],
   "source": [
    "x_reg = np.array([[1, 1], [1, 2], [2, 2], [2, 3]])\n",
    "y_reg = np.dot(x_reg, np.array([1, 2])) + 3\n",
    "reg = LinearRegression().fit(x_reg, y_reg)"
   ],
   "metadata": {
    "collapsed": false,
    "ExecuteTime": {
     "start_time": "2023-05-01T15:56:50.828046Z",
     "end_time": "2023-05-01T15:56:50.850879Z"
    }
   }
  },
  {
   "cell_type": "code",
   "execution_count": 59,
   "outputs": [
    {
     "name": "stdout",
     "output_type": "stream",
     "text": [
      "[1. 2.]\n",
      "3.0\n"
     ]
    }
   ],
   "source": [
    "print(reg.coef_)\n",
    "print(reg.intercept_)"
   ],
   "metadata": {
    "collapsed": false,
    "ExecuteTime": {
     "start_time": "2023-05-01T15:57:10.666902Z",
     "end_time": "2023-05-01T15:57:10.686000Z"
    }
   }
  },
  {
   "cell_type": "code",
   "execution_count": 60,
   "outputs": [
    {
     "name": "stdout",
     "output_type": "stream",
     "text": [
      "1.0\n"
     ]
    }
   ],
   "source": [
    "print(reg.score(x_reg, y_reg))"
   ],
   "metadata": {
    "collapsed": false,
    "ExecuteTime": {
     "start_time": "2023-05-01T15:57:27.276341Z",
     "end_time": "2023-05-01T15:57:27.287931Z"
    }
   }
  },
  {
   "cell_type": "code",
   "execution_count": 61,
   "outputs": [
    {
     "data": {
      "text/plain": "array([16.])"
     },
     "execution_count": 61,
     "metadata": {},
     "output_type": "execute_result"
    }
   ],
   "source": [
    "reg.predict(np.array([[3, 5]]))"
   ],
   "metadata": {
    "collapsed": false,
    "ExecuteTime": {
     "start_time": "2023-05-01T15:57:38.002111Z",
     "end_time": "2023-05-01T15:57:38.051855Z"
    }
   }
  },
  {
   "cell_type": "markdown",
   "source": [
    "Program di atas menggunakan Linear Regression untuk melakukan prediksi nilai y dari set data x. Nilai x_reg dan y_reg merepresentasikan input dan output data training. Model Linear Regression dilatih dengan menggunakan method fit() dengan input berupa data x_reg dan y_reg. Kemudian, dengan menggunakan method coef_ dan intercept_ model ini mengembalikan nilai koefisien dan konstanta yang diperoleh dari training data. Akhirnya, dengan method score(), kinerja model dinilai berdasarkan data training yang digunakan dan dengan predict() model melakukan prediksi nilai y berdasarkan nilai x yang diberikan."
   ],
   "metadata": {
    "collapsed": false
   }
  },
  {
   "cell_type": "code",
   "execution_count": 62,
   "outputs": [
    {
     "name": "stdout",
     "output_type": "stream",
     "text": [
      "Coefficients: \n",
      " [ 3.03499549e-01 -2.37639315e+02  5.10530605e+02  3.27736980e+02\n",
      " -8.14131709e+02  4.92814588e+02  1.02848452e+02  1.84606489e+02\n",
      "  7.43519617e+02  7.60951722e+01]\n",
      "Mean squared error: 0.59\n",
      "Prediction:  [197.61846908 155.43979328 172.88665147 111.53537279 164.80054784\n",
      " 131.06954875 259.12237761 100.47935157 117.0601052  124.30503555\n",
      " 218.36632793  61.19831284 132.25046751 120.3332925   52.54458691\n",
      " 194.03798088 102.57139702 123.56604987 211.0346317   52.60335674]\n",
      "True values:  [233.  91. 111. 152. 120.  67. 310.  94. 183.  66. 173.  72.  49.  64.\n",
      "  48. 178. 104. 132. 220.  57.]\n"
     ]
    }
   ],
   "source": [
    "diabetes_X, diabetes_y = sk_data.load_diabetes(return_X_y=True)\n",
    "\n",
    "diabetes_X_train = diabetes_X[:-20]\n",
    "diabetes_X_test = diabetes_X[-20:]\n",
    "\n",
    "diabetes_y_train = diabetes_y[:-20]\n",
    "diabetes_y_test = diabetes_y[-20:]\n",
    "\n",
    "regr = linear_model.LinearRegression()\n",
    "regr.fit(diabetes_X_train, diabetes_y_train)\n",
    "diabetes_y_pred = regr.predict(diabetes_X_test)\n",
    "\n",
    "print('Coefficients: \\n', regr.coef_)\n",
    "print('Mean squared error: %.2f'\n",
    "    % metrics.r2_score(diabetes_y_test, diabetes_y_pred))\n",
    "print('Prediction: ', diabetes_y_pred)\n",
    "print('True values: ', diabetes_y_test)"
   ],
   "metadata": {
    "collapsed": false,
    "ExecuteTime": {
     "start_time": "2023-05-01T16:01:18.014178Z",
     "end_time": "2023-05-01T16:01:18.107186Z"
    }
   }
  },
  {
   "cell_type": "markdown",
   "source": [
    "Program di atas membaca dataset diabetes dan membaginya menjadi data training dan data test. Lalu, dilakukan pelatihan model regresi linier pada data training dan digunakan untuk memprediksi nilai diabetes pada data test. Hasil prediksi dibandingkan dengan nilai yang sebenarnya menggunakan metrik Mean Squared Error dan koefisien regresi linier dicetak."
   ],
   "metadata": {
    "collapsed": false
   }
  },
  {
   "cell_type": "markdown",
   "source": [
    "# More Evaluation"
   ],
   "metadata": {
    "collapsed": false
   }
  },
  {
   "cell_type": "markdown",
   "source": [
    "## Computing Scores"
   ],
   "metadata": {
    "collapsed": false
   }
  },
  {
   "cell_type": "code",
   "execution_count": 63,
   "outputs": [
    {
     "name": "stdout",
     "output_type": "stream",
     "text": [
      "Precision:  [1.         0.84615385 0.94444444]\n",
      "Recall:  [1.         0.95652174 0.80952381]\n",
      "F1:  [1.         0.89795918 0.87179487]\n",
      "Support:  [16 23 21]\n"
     ]
    }
   ],
   "source": [
    "p, r, f, s = metrics.precision_recall_fscore_support(y_test, y_pred)\n",
    "print('Precision: ', p)\n",
    "print('Recall: ', r)\n",
    "print('F1: ', f)\n",
    "print('Support: ', s)"
   ],
   "metadata": {
    "collapsed": false,
    "ExecuteTime": {
     "start_time": "2023-05-01T16:02:38.440588Z",
     "end_time": "2023-05-01T16:02:38.494327Z"
    }
   }
  },
  {
   "cell_type": "code",
   "execution_count": 64,
   "outputs": [
    {
     "name": "stdout",
     "output_type": "stream",
     "text": [
      "              precision    recall  f1-score   support\n",
      "\n",
      "           0       1.00      1.00      1.00        16\n",
      "           1       0.85      0.96      0.90        23\n",
      "           2       0.94      0.81      0.87        21\n",
      "\n",
      "    accuracy                           0.92        60\n",
      "   macro avg       0.93      0.92      0.92        60\n",
      "weighted avg       0.92      0.92      0.92        60\n",
      "\n"
     ]
    }
   ],
   "source": [
    "report = metrics.classification_report(y_test, y_pred)\n",
    "print(report)"
   ],
   "metadata": {
    "collapsed": false,
    "ExecuteTime": {
     "start_time": "2023-05-01T16:02:57.892494Z",
     "end_time": "2023-05-01T16:02:57.940069Z"
    }
   }
  },
  {
   "cell_type": "markdown",
   "source": [
    "Program di atas digunakan untuk menghitung dan menampilkan beberapa metrik evaluasi untuk model klasifikasi. Metrik evaluasi yang dihitung adalah precision, recall, f1-score, dan support."
   ],
   "metadata": {
    "collapsed": false
   }
  },
  {
   "cell_type": "code",
   "execution_count": 65,
   "outputs": [
    {
     "name": "stdout",
     "output_type": "stream",
     "text": [
      "classifier score:  0.9565217391304348\n"
     ]
    },
    {
     "name": "stderr",
     "output_type": "stream",
     "text": [
      "C:\\Users\\akmal\\anaconda3\\lib\\site-packages\\sklearn\\linear_model\\_logistic.py:814: ConvergenceWarning: lbfgs failed to converge (status=1):\n",
      "STOP: TOTAL NO. of ITERATIONS REACHED LIMIT.\n",
      "\n",
      "Increase the number of iterations (max_iter) or scale the data as shown in:\n",
      "    https://scikit-learn.org/stable/modules/preprocessing.html\n",
      "Please also refer to the documentation for alternative solver options:\n",
      "    https://scikit-learn.org/stable/modules/linear_model.html#logistic-regression\n",
      "  n_iter_i = _check_optimize_result(\n"
     ]
    }
   ],
   "source": [
    "cancer_data = sk_data.load_breast_cancer()\n",
    "X_cancer, y_cancer = utils.shuffle(cancer_data.data, cancer_data.target, random_state=1)\n",
    "X_cancer_train = X_cancer[:500]\n",
    "X_cancer_test = X_cancer[500:]\n",
    "y_cancer_train = y_cancer[:500]\n",
    "y_cancer_test = y_cancer[500:]\n",
    "lr_clf.fit(X_cancer_train, y_cancer_train)\n",
    "print('classifier score: ', lr_clf.score(X_cancer_test, y_cancer_test))"
   ],
   "metadata": {
    "collapsed": false,
    "ExecuteTime": {
     "start_time": "2023-05-01T16:17:06.962349Z",
     "end_time": "2023-05-01T16:17:07.042546Z"
    }
   }
  },
  {
   "cell_type": "code",
   "execution_count": 67,
   "outputs": [
    {
     "name": "stdout",
     "output_type": "stream",
     "text": [
      "Class probabilities (first 10):\n",
      "[[5.20157761e-01 4.79842239e-01]\n",
      " [9.95992974e-03 9.90040070e-01]\n",
      " [9.99925016e-01 7.49835810e-05]\n",
      " [9.99565342e-01 4.34658167e-04]\n",
      " [3.25870463e-02 9.67412954e-01]\n",
      " [9.99921082e-01 7.89180018e-05]\n",
      " [7.91975480e-03 9.92080245e-01]\n",
      " [2.83950966e-03 9.97160490e-01]\n",
      " [3.73834342e-03 9.96261657e-01]\n",
      " [6.72691574e-02 9.32730843e-01]]\n",
      "Precision:  [0.95454545 0.95348837 0.97619048 0.97560976 0.975      0.97435897\n",
      " 0.97368421 0.97297297 0.97222222 0.97142857 0.97058824 0.96969697\n",
      " 1.         1.         1.         1.         1.         1.\n",
      " 1.         1.         1.         1.         1.         1.\n",
      " 1.         1.         1.         1.         1.         1.\n",
      " 1.         1.         1.         1.         1.         1.\n",
      " 1.         1.         1.         1.         1.         1.\n",
      " 1.         1.         1.        ]\n",
      "Recall:  [1.         0.97619048 0.97619048 0.95238095 0.92857143 0.9047619\n",
      " 0.88095238 0.85714286 0.83333333 0.80952381 0.78571429 0.76190476\n",
      " 0.76190476 0.73809524 0.71428571 0.69047619 0.66666667 0.64285714\n",
      " 0.61904762 0.5952381  0.57142857 0.54761905 0.52380952 0.5\n",
      " 0.47619048 0.45238095 0.42857143 0.4047619  0.38095238 0.35714286\n",
      " 0.33333333 0.30952381 0.28571429 0.26190476 0.23809524 0.21428571\n",
      " 0.19047619 0.16666667 0.14285714 0.11904762 0.0952381  0.07142857\n",
      " 0.04761905 0.02380952 0.        ]\n",
      "Thresholds:  [0.47984224 0.67654103 0.77993562 0.8101021  0.83656587 0.84764975\n",
      " 0.91698785 0.91959827 0.92306929 0.93230578 0.93273084 0.93811268\n",
      " 0.94530442 0.9552398  0.96741295 0.97229607 0.97849285 0.9824555\n",
      " 0.98568749 0.98668418 0.98743522 0.98832027 0.98989417 0.99004007\n",
      " 0.99050716 0.99208025 0.99228827 0.9932811  0.9933872  0.99411912\n",
      " 0.99463026 0.99571514 0.99626166 0.99677777 0.99716049 0.99864442\n",
      " 0.99873602 0.99899949 0.99912037 0.99937165 0.99941098 0.99951484\n",
      " 0.99953387 0.99970006]\n"
     ]
    },
    {
     "data": {
      "text/plain": "<Figure size 432x288 with 1 Axes>",
      "image/png": "[encoded data removed]"
     },
     "metadata": {
      "needs_background": "light"
     },
     "output_type": "display_data"
    }
   ],
   "source": [
    "y_cancer_pred = lr_clf.predict(X_cancer_test)\n",
    "cancer_probs = lr_clf.predict_proba(X_cancer_test)\n",
    "print('Class probabilities (first 10):')\n",
    "print(cancer_probs[:10])\n",
    "y_cancer_scores = cancer_probs[:,1]\n",
    "precission, recall, thresholds = metrics.precision_recall_curve(y_cancer_test, y_cancer_scores)\n",
    "plt.plot(recall, precission, color='darkorange', lw=2)\n",
    "print('Precision: ', precission)\n",
    "print('Recall: ', recall)\n",
    "print('Thresholds: ', thresholds)"
   ],
   "metadata": {
    "collapsed": false,
    "ExecuteTime": {
     "start_time": "2023-05-01T16:19:31.239360Z",
     "end_time": "2023-05-01T16:19:31.621775Z"
    }
   }
  },
  {
   "cell_type": "code",
   "execution_count": 68,
   "outputs": [
    {
     "name": "stderr",
     "output_type": "stream",
     "text": [
      "No artists with labels found to put in legend.  Note that artists whose label start with an underscore are ignored when legend() is called with no argument.\n"
     ]
    },
    {
     "name": "stdout",
     "output_type": "stream",
     "text": [
      "0.9902998236331569\n"
     ]
    },
    {
     "data": {
      "text/plain": "<Figure size 432x288 with 1 Axes>",
      "image/png": "[encoded data removed]"
     },
     "metadata": {
      "needs_background": "light"
     },
     "output_type": "display_data"
    }
   ],
   "source": [
    "fpr, tpr, ths = metrics.roc_curve(y_cancer_test, y_cancer_scores)\n",
    "plt.plot(fpr, tpr, color='darkorange', lw=2)\n",
    "print(metrics.roc_auc_score(y_cancer_test, y_cancer_scores))\n",
    "plt.plot([0, 1], [0, 1], color='navy', lw=2, linestyle='--')\n",
    "plt.xlim([0.0, 1.0])\n",
    "plt.ylim([0.0, 1.05])\n",
    "plt.xlabel('False Positive Rate (FPR)')\n",
    "plt.ylabel('True Positive Rate (TPR)')\n",
    "plt.title('Receiver operating characteristic (ROC)')\n",
    "plt.legend(loc=\"lower right\")\n",
    "plt.show()"
   ],
   "metadata": {
    "collapsed": false,
    "ExecuteTime": {
     "start_time": "2023-05-01T16:21:14.056058Z",
     "end_time": "2023-05-01T16:21:14.419414Z"
    }
   }
  },
  {
   "cell_type": "code",
   "execution_count": 70,
   "outputs": [
    {
     "name": "stdout",
     "output_type": "stream",
     "text": [
      "[[0.58776791 0.41223209]\n",
      " [0.37997189 0.62002811]\n",
      " [0.02923349 0.97076651]\n",
      " [0.99776296 0.00223704]\n",
      " [0.0723674  0.9276326 ]\n",
      " [0.01956692 0.98043308]\n",
      " [0.78158014 0.21841986]\n",
      " [0.28692008 0.71307992]\n",
      " [0.02068639 0.97931361]\n",
      " [0.00236547 0.99763453]]\n"
     ]
    },
    {
     "data": {
      "text/plain": "[<matplotlib.lines.Line2D at 0x16a2eeb2f70>]"
     },
     "execution_count": 70,
     "metadata": {},
     "output_type": "execute_result"
    },
    {
     "data": {
      "text/plain": "<Figure size 432x288 with 1 Axes>",
      "image/png": "[encoded data removed]"
     },
     "metadata": {
      "needs_background": "light"
     },
     "output_type": "display_data"
    }
   ],
   "source": [
    "(Xtoy, y_toy) = sk_data.make_classification(n_samples=10000)\n",
    "Xttrain = Xtoy[:8000,:]\n",
    "Xttest = Xtoy[8000:,:]\n",
    "yttrain = y_toy[:8000]\n",
    "yttest = y_toy[8000:]\n",
    "\n",
    "lr_clf.fit(Xttrain, yttrain)\n",
    "tprobs = lr_clf.predict_proba(Xttest)\n",
    "print(tprobs[:10])\n",
    "\n",
    "y_tscores = tprobs[:,1]\n",
    "precission, recall, thresholds = metrics.precision_recall_curve(yttest, y_tscores)\n",
    "plt.plot(recall, precission)"
   ],
   "metadata": {
    "collapsed": false,
    "ExecuteTime": {
     "start_time": "2023-05-01T16:23:58.309975Z",
     "end_time": "2023-05-01T16:23:58.590905Z"
    }
   }
  },
  {
   "cell_type": "markdown",
   "source": [
    "Program diatas melakukan evaluasi performa model klasifikasi menggunakan metrik-metrik seperti precision, recall, F1-score, area under the receiver operating characteristic curve (AUC-ROC), dan visualisasi plot dari metrik-metrik tersebut.\n",
    "\n",
    "Program dimulai dengan memuat dataset cancer_data, lalu membaginya menjadi data train dan test. Kemudian dilakukan training model dengan menggunakan logistic regression. Hasil prediksi dan probabilitas kelas dari test data kemudian digunakan untuk menghitung precision, recall, F1-score, dan threshold. Selanjutnya, program akan membuat plot precision-recall curve dan ROC curve, serta menampilkan nilai AUC-ROC.\n",
    "\n",
    "Selain itu, program juga melakukan pembuatan dataset sintetis menggunakan make_classification dari scikit-learn, kemudian melakukan prediksi dan menghitung probabilitas kelas untuk data test. Hasil probabilitas kelas kemudian digunakan untuk membuat plot precision-recall curve."
   ],
   "metadata": {
    "collapsed": false
   }
  },
  {
   "cell_type": "markdown",
   "source": [
    "## K-fold Cross Validation"
   ],
   "metadata": {
    "collapsed": false
   }
  },
  {
   "cell_type": "code",
   "execution_count": 71,
   "outputs": [
    {
     "name": "stdout",
     "output_type": "stream",
     "text": [
      "[1.         0.93333333 0.96658312 0.96658312 0.86111111]\n",
      "0.9455221386800334\n"
     ]
    }
   ],
   "source": [
    "scores = model_selection.cross_val_score(dtree, X, y, scoring='f1_weighted', cv=5)\n",
    "print(scores)\n",
    "print(scores.mean())"
   ],
   "metadata": {
    "collapsed": false,
    "ExecuteTime": {
     "start_time": "2023-05-01T16:25:29.970173Z",
     "end_time": "2023-05-01T16:25:30.020411Z"
    }
   }
  },
  {
   "cell_type": "code",
   "execution_count": 76,
   "outputs": [
    {
     "name": "stdout",
     "output_type": "stream",
     "text": [
      "{'fit_time': array([0.00100017, 0.00100017, 0.0010004 ]), 'score_time': array([0.00400043, 0.00493693, 0.00200057]), 'test_precision_weighted': array([0.96      , 0.98111111, 0.88308772]), 'test_recall_weighted': array([0.96, 0.98, 0.88])}\n",
      "0.9413996101364522 0.94\n"
     ]
    }
   ],
   "source": [
    "scores = model_selection.cross_validate(dtree, X, y, scoring=['precision_weighted','recall_weighted'], cv=3)\n",
    "print(scores)\n",
    "print(scores['test_precision_weighted'].mean(),scores['test_recall_weighted'].mean())"
   ],
   "metadata": {
    "collapsed": false,
    "ExecuteTime": {
     "start_time": "2023-05-01T16:31:06.025793Z",
     "end_time": "2023-05-01T16:31:06.062132Z"
    }
   }
  },
  {
   "cell_type": "markdown",
   "source": [
    "Program di atas melakukan evaluasi performa model Decision Tree dengan menggunakan metrik F1-weighted, precision-weighted, dan recall-weighted menggunakan fungsi cross_val_score dan cross_validate dari library model_selection di scikit-learn. Pada bagian pertama, program menggunakan cross_val_score untuk menghitung F1-weighted score dengan melakukan validasi silang (cross-validation) sebanyak 5 kali. Pada bagian kedua, program menggunakan cross_validate untuk menghitung precision-weighted dan recall-weighted dengan melakukan validasi silang sebanyak 3 kali. Hasil evaluasi performa model kemudian ditampilkan dan dicetak pada output program."
   ],
   "metadata": {
    "collapsed": false
   }
  },
  {
   "cell_type": "markdown",
   "source": [
    "## Text Classification Example"
   ],
   "metadata": {
    "collapsed": false
   }
  },
  {
   "cell_type": "code",
   "execution_count": 77,
   "outputs": [
    {
     "name": "stdout",
     "output_type": "stream",
     "text": [
      "1190\n",
      "791\n"
     ]
    }
   ],
   "source": [
    "categories = ['sci.space','rec.sport.baseball']\n",
    "news_train = fetch_20newsgroups(subset='train', remove=('headers', 'footers', 'quotes'), categories=categories)\n",
    "print(len(news_train.target))\n",
    "X_news_train_data = news_train.data\n",
    "y_news_train = news_train.target\n",
    "news_test = fetch_20newsgroups(subset='test', remove=('headers', 'footers', 'quotes'), categories=categories)\n",
    "print(len(news_test.target))\n",
    "X_news_test_data = news_test.data\n",
    "y_news_test = news_test.target"
   ],
   "metadata": {
    "collapsed": false,
    "ExecuteTime": {
     "start_time": "2023-05-01T16:31:08.488932Z",
     "end_time": "2023-05-01T16:35:15.546671Z"
    }
   }
  },
  {
   "cell_type": "code",
   "execution_count": 78,
   "outputs": [
    {
     "data": {
      "text/plain": "\"I've been saying this for quite some time, but being absent from the\\nnet for a while I figured I'd stick my neck out a bit...\\n\\nThe Royals will set the record for fewest runs scored by an AL\\nteam since the inception of the DH rule.  (p.s. any ideas what this is?)\\n\\nThey will fall easily short of 600 runs, that's for damn sure.  I can't\\nbelieve these media fools picking them to win the division (like our\\nTom Gage of the Detroit News claiming Herk Robinson is some kind of\\ngenius for the trades/aquisitions he's made)\\n\\nc-ya\\n\\nSean\\n\\n\""
     },
     "execution_count": 78,
     "metadata": {},
     "output_type": "execute_result"
    }
   ],
   "source": [
    "X_news_train_data[0]"
   ],
   "metadata": {
    "collapsed": false,
    "ExecuteTime": {
     "start_time": "2023-05-01T18:36:09.203409Z",
     "end_time": "2023-05-01T18:36:09.224554Z"
    }
   }
  },
  {
   "cell_type": "code",
   "execution_count": 79,
   "outputs": [
    {
     "data": {
      "text/plain": "LogisticRegression()"
     },
     "execution_count": 79,
     "metadata": {},
     "output_type": "execute_result"
    }
   ],
   "source": [
    "vectorizer = sk_text.TfidfVectorizer(stop_words='english', min_df=4, max_df=0.8)\n",
    "X_news_train = vectorizer.fit_transform(X_news_train_data)\n",
    "lr_clf = linear_model.LogisticRegression(solver='lbfgs')\n",
    "lr_clf.fit(X_news_train, y_news_train)"
   ],
   "metadata": {
    "collapsed": false,
    "ExecuteTime": {
     "start_time": "2023-05-01T18:40:41.653334Z",
     "end_time": "2023-05-01T18:40:41.975078Z"
    }
   }
  },
  {
   "cell_type": "code",
   "execution_count": 80,
   "outputs": [
    {
     "name": "stdout",
     "output_type": "stream",
     "text": [
      "Classifier score:  0.9216182048040455\n"
     ]
    }
   ],
   "source": [
    "X_news_test = vectorizer.transform(X_news_test_data)\n",
    "print('Classifier score: ', lr_clf.score(X_news_test, y_news_test))"
   ],
   "metadata": {
    "collapsed": false,
    "ExecuteTime": {
     "start_time": "2023-05-01T18:41:08.684779Z",
     "end_time": "2023-05-01T18:41:08.731157Z"
    }
   }
  },
  {
   "cell_type": "markdown",
   "source": [
    "Program di atas mengambil dua kategori dokumen (sci.space dan rec.sport.baseball) dari dataset 20newsgroups sebagai data latih dan data uji. Kemudian, data latih diubah menjadi matriks fitur dengan menggunakan TfidfVectorizer dari scikit-learn untuk mengukur frekuensi kata dalam dokumen. Model klasifikasi Logistic Regression dilatih dengan matriks fitur tersebut dan akurasi dari model tersebut dihitung dengan menggunakan data uji."
   ],
   "metadata": {
    "collapsed": false
   }
  },
  {
   "cell_type": "markdown",
   "source": [
    "# Word Embeddings and Text Classification"
   ],
   "metadata": {
    "collapsed": false
   }
  },
  {
   "cell_type": "markdown",
   "source": [
    "## The Gensim Library"
   ],
   "metadata": {
    "collapsed": false
   }
  },
  {
   "cell_type": "code",
   "execution_count": 81,
   "outputs": [],
   "source": [
    "train_gsim = [g_utils.simple_preprocess(doc) for doc in X_news_train_data]\n",
    "train_data_labels = [(x, y) for (x, y) in zip(train_gsim, y_news_train) if len(x) > 0]\n",
    "X_news_train_gsim = [x for (x, y) in train_data_labels]\n",
    "y_news_train_gsim = [y for (x, y) in train_data_labels]"
   ],
   "metadata": {
    "collapsed": false,
    "ExecuteTime": {
     "start_time": "2023-05-01T18:44:10.299519Z",
     "end_time": "2023-05-01T18:44:10.526571Z"
    }
   }
  },
  {
   "cell_type": "code",
   "execution_count": 82,
   "outputs": [],
   "source": [
    "test_gsim = [g_utils.simple_preprocess(doc) for doc in X_news_test_data]\n",
    "test_data_labels = [(x, y) for (x, y) in zip(test_gsim, y_news_test) if len(x) > 0]\n",
    "X_news_test_gsim = [x for (x, y) in test_data_labels]\n",
    "y_news_test_gsim = [y for (x, y) in test_data_labels]"
   ],
   "metadata": {
    "collapsed": false,
    "ExecuteTime": {
     "start_time": "2023-05-01T18:44:59.312294Z",
     "end_time": "2023-05-01T18:44:59.423408Z"
    }
   }
  },
  {
   "cell_type": "code",
   "execution_count": 83,
   "outputs": [
    {
     "data": {
      "text/plain": "['ve',\n 'been',\n 'saying',\n 'this',\n 'for',\n 'quite',\n 'some',\n 'time',\n 'but',\n 'being',\n 'absent',\n 'from',\n 'the',\n 'net',\n 'for',\n 'while',\n 'figured',\n 'stick',\n 'my',\n 'neck',\n 'out',\n 'bit',\n 'the',\n 'royals',\n 'will',\n 'set',\n 'the',\n 'record',\n 'for',\n 'fewest',\n 'runs',\n 'scored',\n 'by',\n 'an',\n 'al',\n 'team',\n 'since',\n 'the',\n 'inception',\n 'of',\n 'the',\n 'dh',\n 'rule',\n 'any',\n 'ideas',\n 'what',\n 'this',\n 'is',\n 'they',\n 'will',\n 'fall',\n 'easily',\n 'short',\n 'of',\n 'runs',\n 'that',\n 'for',\n 'damn',\n 'sure',\n 'can',\n 'believe',\n 'these',\n 'media',\n 'fools',\n 'picking',\n 'them',\n 'to',\n 'win',\n 'the',\n 'division',\n 'like',\n 'our',\n 'tom',\n 'gage',\n 'of',\n 'the',\n 'detroit',\n 'news',\n 'claiming',\n 'herk',\n 'robinson',\n 'is',\n 'some',\n 'kind',\n 'of',\n 'genius',\n 'for',\n 'the',\n 'trades',\n 'aquisitions',\n 'he',\n 'made',\n 'ya',\n 'sean']"
     },
     "execution_count": 83,
     "metadata": {},
     "output_type": "execute_result"
    }
   ],
   "source": [
    "X_news_train_gsim[0]"
   ],
   "metadata": {
    "collapsed": false,
    "ExecuteTime": {
     "start_time": "2023-05-01T18:45:13.569904Z",
     "end_time": "2023-05-01T18:45:13.620241Z"
    }
   }
  },
  {
   "cell_type": "code",
   "execution_count": 139,
   "outputs": [],
   "source": [
    "embedding_size = 50\n",
    "cbow_model = Word2Vec(X_news_train_gsim, min_count=1, window=10, vector_size=embedding_size)"
   ],
   "metadata": {
    "collapsed": false,
    "ExecuteTime": {
     "start_time": "2023-05-01T20:13:31.280175Z",
     "end_time": "2023-05-01T20:13:33.419698Z"
    }
   }
  },
  {
   "cell_type": "code",
   "execution_count": 90,
   "outputs": [
    {
     "data": {
      "text/plain": "array([ 0.05933758, -0.20763446, -0.0413271 ,  0.08395874, -0.38037726,\n       -0.55437905,  0.42425704,  0.85914004, -0.40944284, -0.11602718,\n       -0.09127057, -0.48213986,  0.23740807,  0.43946117, -0.2967289 ,\n        0.2735719 ,  0.47122806,  0.0516023 , -0.5653875 , -0.52622133,\n        0.26444778,  0.17496751,  0.7312669 , -0.35970315,  0.35991833,\n        0.24453188, -0.34687588,  0.25445244, -0.6697036 ,  0.03566112,\n        0.08440658,  0.0344054 ,  0.08399429, -0.04006768, -0.32638487,\n        0.15228857,  0.18551715, -0.07534092,  0.23885703, -0.5778701 ,\n        0.40192124, -0.05932662, -0.09881862, -0.16622   ,  0.93571085,\n       -0.09379991, -0.1864224 , -0.32334852,  0.28327152,  0.30936867],\n      dtype=float32)"
     },
     "execution_count": 90,
     "metadata": {},
     "output_type": "execute_result"
    }
   ],
   "source": [
    "cbow_model.wv['pitch']"
   ],
   "metadata": {
    "collapsed": false,
    "ExecuteTime": {
     "start_time": "2023-05-01T18:49:40.221890Z",
     "end_time": "2023-05-01T18:49:40.242338Z"
    }
   }
  },
  {
   "cell_type": "code",
   "execution_count": 91,
   "outputs": [
    {
     "data": {
      "text/plain": "[('home', 0.9991624355316162),\n ('until', 0.9990676641464233),\n ('strong', 0.9989771246910095),\n ('left', 0.9989693760871887),\n ('against', 0.9989672899246216),\n ('staff', 0.9989323616027832),\n ('after', 0.9989193081855774),\n ('base', 0.9989078640937805),\n ('very', 0.9988487362861633),\n ('great', 0.9988462924957275)]"
     },
     "execution_count": 91,
     "metadata": {},
     "output_type": "execute_result"
    }
   ],
   "source": [
    "cbow_model.wv.most_similar('pitch')"
   ],
   "metadata": {
    "collapsed": false,
    "ExecuteTime": {
     "start_time": "2023-05-01T18:50:20.379749Z",
     "end_time": "2023-05-01T18:50:20.435186Z"
    }
   }
  },
  {
   "cell_type": "code",
   "execution_count": 93,
   "outputs": [
    {
     "data": {
      "text/plain": "[('won', 0.9975550770759583),\n ('rockies', 0.9975525140762329),\n ('east', 0.9974113702774048),\n ('sox', 0.9973748326301575),\n ('atlanta', 0.9973745942115784),\n ('toronto', 0.9973357319831848),\n ('red', 0.9971654415130615),\n ('twins', 0.9971004128456116),\n ('jays', 0.9969668388366699),\n ('boston', 0.9968999028205872)]"
     },
     "execution_count": 93,
     "metadata": {},
     "output_type": "execute_result"
    }
   ],
   "source": [
    "cbow_model.wv.most_similar(positive=['chicago', 'rangers'], negative=['texas'])"
   ],
   "metadata": {
    "collapsed": false,
    "ExecuteTime": {
     "start_time": "2023-05-01T18:51:24.906204Z",
     "end_time": "2023-05-01T18:51:24.929204Z"
    }
   }
  },
  {
   "cell_type": "code",
   "execution_count": 95,
   "outputs": [
    {
     "data": {
      "text/plain": "array([ 0.10788731, -0.4348556 , -0.1519127 ,  0.14496738, -0.7584055 ,\n       -1.159181  ,  0.88924724,  1.7585547 , -0.8423693 , -0.21426105,\n       -0.20789692, -0.93863904,  0.47354662,  0.93693864, -0.57824546,\n        0.541146  ,  1.0251347 ,  0.22916947, -1.1722467 , -1.0274755 ,\n        0.5553119 ,  0.3844064 ,  1.5393734 , -0.65785664,  0.8093799 ,\n        0.45676455, -0.7388402 ,  0.5687139 , -1.394374  ,  0.02351433,\n        0.188298  ,  0.05201381,  0.18398151, -0.13438223, -0.6416923 ,\n        0.33862254,  0.4484823 , -0.09755717,  0.5179902 , -1.1096755 ,\n        0.81419176, -0.11954781, -0.1631906 , -0.33651355,  1.840603  ,\n       -0.07479143, -0.36505678, -0.611805  ,  0.59586096,  0.63306296],\n      dtype=float32)"
     },
     "execution_count": 95,
     "metadata": {},
     "output_type": "execute_result"
    }
   ],
   "source": [
    "np.array([cbow_model.wv[x] for x in X_news_train_gsim[0]]).mean(axis=0)"
   ],
   "metadata": {
    "collapsed": false,
    "ExecuteTime": {
     "start_time": "2023-05-01T18:52:07.851999Z",
     "end_time": "2023-05-01T18:52:07.863997Z"
    }
   }
  },
  {
   "cell_type": "code",
   "execution_count": 97,
   "outputs": [],
   "source": [
    "X_news_train_cbow = [np.array([cbow_model.wv[x] for x in y]).mean(axis=0) for y in X_news_train_gsim]"
   ],
   "metadata": {
    "collapsed": false,
    "ExecuteTime": {
     "start_time": "2023-05-01T18:54:07.037102Z",
     "end_time": "2023-05-01T18:54:07.474924Z"
    }
   }
  },
  {
   "cell_type": "code",
   "execution_count": 98,
   "outputs": [],
   "source": [
    "X_news_test_cbow = [np.array([cbow_model.wv[x] for x in y if x in cbow_model.wv]).mean(axis=0) for y in X_news_test_gsim]"
   ],
   "metadata": {
    "collapsed": false,
    "ExecuteTime": {
     "start_time": "2023-05-01T18:54:28.192153Z",
     "end_time": "2023-05-01T18:54:28.510096Z"
    }
   }
  },
  {
   "cell_type": "code",
   "execution_count": 99,
   "outputs": [
    {
     "data": {
      "text/plain": "LogisticRegression()"
     },
     "execution_count": 99,
     "metadata": {},
     "output_type": "execute_result"
    }
   ],
   "source": [
    "lr_clf.fit(np.array(X_news_train_cbow), np.array(y_news_train_gsim))"
   ],
   "metadata": {
    "collapsed": false,
    "ExecuteTime": {
     "start_time": "2023-05-01T18:55:01.151795Z",
     "end_time": "2023-05-01T18:55:01.186801Z"
    }
   }
  },
  {
   "cell_type": "code",
   "execution_count": 100,
   "outputs": [
    {
     "name": "stdout",
     "output_type": "stream",
     "text": [
      "Classifier score:  0.8007915567282322\n"
     ]
    }
   ],
   "source": [
    "print('Classifier score: ', lr_clf.score(np.array(X_news_test_cbow), y_news_test_gsim))"
   ],
   "metadata": {
    "collapsed": false,
    "ExecuteTime": {
     "start_time": "2023-05-01T18:55:23.501741Z",
     "end_time": "2023-05-01T18:55:23.522746Z"
    }
   }
  },
  {
   "cell_type": "markdown",
   "source": [
    "Program di atas merupakan contoh penggunaan Word2Vec dan Logistic Regression untuk klasifikasi teks. Pertama, data latih dan data uji diambil dari dataset 20 newsgroups yang terdiri dari dua kategori, yaitu sci.space dan rec.sport.baseball. Selanjutnya, data latih dan data uji diolah dengan memecah setiap dokumen menjadi kata-kata dengan menggunakan simple_preprocess dari Gensim. Setelah itu, dilakukan training model Word2Vec dengan menggunakan data latih yang telah diolah sebelumnya. Model Word2Vec yang telah ditraining digunakan untuk mengubah setiap dokumen menjadi sebuah vektor dengan menghitung rata-rata dari vektor-vektor kata-kata yang terdapat pada dokumen tersebut. Vektor-vektor dokumen yang dihasilkan digunakan sebagai input untuk training model klasifikasi menggunakan Logistic Regression. Akhirnya, performa model klasifikasi diukur dengan menggunakan data uji dan dicetak ke layar."
   ],
   "metadata": {
    "collapsed": false
   }
  },
  {
   "cell_type": "code",
   "execution_count": 138,
   "outputs": [],
   "source": [
    "embedding_size = 50\n",
    "skipgram_model = Word2Vec(X_news_train_gsim, min_count=1, window=10, vector_size=embedding_size, sg=1)"
   ],
   "metadata": {
    "collapsed": false,
    "ExecuteTime": {
     "start_time": "2023-05-01T20:13:12.235434Z",
     "end_time": "2023-05-01T20:13:18.782983Z"
    }
   }
  },
  {
   "cell_type": "code",
   "execution_count": 103,
   "outputs": [],
   "source": [
    "X_news_train_skipgram = [np.array([skipgram_model.wv[x] for x in y]).mean(axis=0) for y in X_news_train_gsim]\n",
    "X_news_test_skipgram = [np.array([skipgram_model.wv[x] for x in y if x in skipgram_model.wv]).mean(axis=0) for y in X_news_test_gsim]"
   ],
   "metadata": {
    "collapsed": false,
    "ExecuteTime": {
     "start_time": "2023-05-01T18:56:51.936608Z",
     "end_time": "2023-05-01T18:56:52.603378Z"
    }
   }
  },
  {
   "cell_type": "code",
   "execution_count": 104,
   "outputs": [
    {
     "data": {
      "text/plain": "0.9287598944591029"
     },
     "execution_count": 104,
     "metadata": {},
     "output_type": "execute_result"
    }
   ],
   "source": [
    "lr_clf.fit(np.array(X_news_train_skipgram), np.array(y_news_train_gsim))\n",
    "lr_clf.score(np.array(X_news_test_skipgram), y_news_test_gsim)"
   ],
   "metadata": {
    "collapsed": false,
    "ExecuteTime": {
     "start_time": "2023-05-01T18:57:14.929348Z",
     "end_time": "2023-05-01T18:57:14.989262Z"
    }
   }
  },
  {
   "cell_type": "markdown",
   "source": [
    "Program di atas merupakan implementasi untuk melatih model Word2Vec dengan metode Skip-Gram. Pada program ini, teks di preprocessing menggunakan simple_preprocess dari Gensim, kemudian dijadikan input untuk melatih model Word2Vec. Hasil dari model Word2Vec kemudian dijadikan representasi vektor yang diambil rata-rataannya pada setiap dokumen. Setelah itu, model Logistic Regression dilatih dan diuji pada data tes. Program ini bertujuan untuk menguji performa model Word2Vec dengan metode Skip-Gram pada dataset 20newsgroup untuk klasifikasi teks."
   ],
   "metadata": {
    "collapsed": false
   }
  },
  {
   "cell_type": "code",
   "execution_count": 105,
   "outputs": [
    {
     "name": "stdout",
     "output_type": "stream",
     "text": [
      "[==================================================] 100.0% 1662.8/1662.8MB downloaded\n",
      "C:\\Users\\akmal/gensim-data\\word2vec-google-news-300\\word2vec-google-news-300.gz\n"
     ]
    }
   ],
   "source": [
    "path = api.load(\"word2vec-google-news-300\", return_path=True)\n",
    "print(path)"
   ],
   "metadata": {
    "collapsed": false,
    "ExecuteTime": {
     "start_time": "2023-05-01T18:57:37.518452Z",
     "end_time": "2023-05-01T19:03:57.757901Z"
    }
   }
  },
  {
   "cell_type": "code",
   "execution_count": 106,
   "outputs": [],
   "source": [
    "g_model = gensim.models.KeyedVectors.load_word2vec_format(path, binary=True)"
   ],
   "metadata": {
    "collapsed": false,
    "ExecuteTime": {
     "start_time": "2023-05-01T19:33:58.923793Z",
     "end_time": "2023-05-01T19:35:03.786302Z"
    }
   }
  },
  {
   "cell_type": "code",
   "execution_count": 107,
   "outputs": [
    {
     "name": "stdout",
     "output_type": "stream",
     "text": [
      "300\n",
      "[-0.05419922  0.01708984 -0.00527954  0.33203125 -0.25       -0.01397705\n",
      " -0.15039062 -0.265625    0.01647949  0.3828125  -0.03295898 -0.09716797\n",
      " -0.16308594 -0.04443359  0.00946045  0.18457031  0.03637695  0.16601562\n",
      "  0.36328125 -0.25585938  0.375       0.171875    0.21386719 -0.19921875\n",
      "  0.13085938 -0.07275391 -0.02819824  0.11621094  0.15332031  0.09082031\n",
      "  0.06787109 -0.0300293  -0.16894531 -0.20800781 -0.03710938 -0.22753906\n",
      "  0.26367188  0.012146    0.18359375  0.31054688 -0.10791016 -0.19140625\n",
      "  0.21582031  0.13183594 -0.03515625  0.18554688 -0.30859375  0.04785156\n",
      " -0.10986328  0.14355469 -0.43554688 -0.0378418   0.10839844  0.140625\n",
      " -0.10595703  0.26171875 -0.17089844  0.39453125  0.12597656 -0.27734375\n",
      " -0.28125     0.14746094 -0.20996094  0.02355957  0.18457031  0.00445557\n",
      " -0.27929688 -0.03637695 -0.29296875  0.19628906  0.20703125  0.2890625\n",
      " -0.20507812  0.06787109 -0.43164062 -0.10986328 -0.2578125  -0.02331543\n",
      "  0.11328125  0.23144531 -0.04418945  0.10839844 -0.2890625  -0.09521484\n",
      " -0.10351562 -0.0324707   0.07763672 -0.13378906  0.22949219  0.06298828\n",
      "  0.08349609  0.02929688 -0.11474609  0.00534058 -0.12988281  0.02514648\n",
      "  0.08789062  0.24511719 -0.11474609 -0.296875   -0.59375    -0.29492188\n",
      " -0.13378906  0.27734375 -0.04174805  0.11621094  0.28320312  0.00241089\n",
      "  0.13867188 -0.00683594 -0.30078125  0.16210938  0.01171875 -0.13867188\n",
      "  0.48828125  0.02880859  0.02416992  0.04736328  0.05859375 -0.23828125\n",
      "  0.02758789  0.05981445 -0.03857422  0.06933594  0.14941406 -0.10888672\n",
      " -0.07324219  0.08789062  0.27148438  0.06591797 -0.37890625 -0.26171875\n",
      " -0.13183594  0.09570312 -0.3125      0.10205078  0.03063965  0.23632812\n",
      "  0.00582886  0.27734375  0.20507812 -0.17871094 -0.31445312 -0.01586914\n",
      "  0.13964844  0.13574219  0.0390625  -0.29296875  0.234375   -0.33984375\n",
      " -0.11816406  0.10644531 -0.18457031 -0.02099609  0.02563477  0.25390625\n",
      "  0.07275391  0.13574219 -0.00138092 -0.2578125  -0.2890625   0.10107422\n",
      "  0.19238281 -0.04882812  0.27929688 -0.3359375  -0.07373047  0.01879883\n",
      " -0.10986328 -0.04614258  0.15722656  0.06689453 -0.03417969  0.16308594\n",
      "  0.08642578  0.44726562  0.02026367 -0.01977539  0.07958984  0.17773438\n",
      " -0.04370117 -0.00952148  0.16503906  0.17285156  0.23144531 -0.04272461\n",
      "  0.02355957  0.18359375 -0.41601562 -0.01745605  0.16796875  0.04736328\n",
      "  0.14257812  0.08496094  0.33984375  0.1484375  -0.34375    -0.14160156\n",
      " -0.06835938 -0.14648438 -0.02844238  0.07421875 -0.07666016  0.12695312\n",
      "  0.05859375 -0.07568359 -0.03344727  0.23632812 -0.16308594  0.16503906\n",
      "  0.1484375  -0.2421875  -0.3515625  -0.30664062  0.00491333  0.17675781\n",
      "  0.46289062  0.14257812 -0.25       -0.25976562  0.04370117  0.34960938\n",
      "  0.05957031  0.07617188 -0.02868652 -0.09667969 -0.01281738  0.05859375\n",
      " -0.22949219 -0.1953125  -0.12207031  0.20117188 -0.42382812  0.06005859\n",
      "  0.50390625  0.20898438  0.11230469 -0.06054688  0.33203125  0.07421875\n",
      " -0.05786133  0.11083984 -0.06494141  0.05639648  0.01757812  0.08398438\n",
      "  0.13769531  0.2578125   0.16796875 -0.16894531  0.01794434  0.16015625\n",
      "  0.26171875  0.31640625 -0.24804688  0.05371094 -0.0859375   0.17089844\n",
      " -0.39453125 -0.00156403 -0.07324219 -0.04614258 -0.16210938 -0.15722656\n",
      "  0.21289062 -0.15820312  0.04394531  0.28515625  0.01196289 -0.26953125\n",
      " -0.04370117  0.37109375  0.04663086 -0.19726562  0.3046875  -0.36523438\n",
      " -0.23632812  0.08056641 -0.04248047 -0.14648438 -0.06225586 -0.0534668\n",
      " -0.05664062  0.18945312  0.37109375 -0.22070312  0.04638672  0.02612305\n",
      " -0.11474609  0.265625   -0.02453613  0.11083984 -0.02514648 -0.12060547\n",
      "  0.05297852  0.07128906  0.00063705 -0.36523438 -0.13769531 -0.12890625]\n"
     ]
    }
   ],
   "source": [
    "print(len(g_model['hello']))\n",
    "print(g_model['hello'])"
   ],
   "metadata": {
    "collapsed": false,
    "ExecuteTime": {
     "start_time": "2023-05-01T19:36:24.469746Z",
     "end_time": "2023-05-01T19:36:24.490007Z"
    }
   }
  },
  {
   "cell_type": "code",
   "execution_count": 108,
   "outputs": [
    {
     "data": {
      "text/plain": "[('pitches', 0.7401653528213501),\n ('backdoor_slider', 0.5972762107849121),\n ('fastball', 0.5737807750701904),\n ('curveball', 0.5543882846832275),\n ('hanging_slider', 0.5523896217346191),\n ('hittable_pitch', 0.5503243207931519),\n ('leadoff_batter_Cliff_Floyd', 0.5496907234191895),\n ('offspeed_pitch', 0.5477588176727295),\n ('atbat', 0.5441111326217651),\n ('yaw_converters_SCADA', 0.541084885597229)]"
     },
     "execution_count": 108,
     "metadata": {},
     "output_type": "execute_result"
    }
   ],
   "source": [
    "g_model.most_similar('pitch')"
   ],
   "metadata": {
    "collapsed": false,
    "ExecuteTime": {
     "start_time": "2023-05-01T19:36:44.432519Z",
     "end_time": "2023-05-01T19:39:09.559649Z"
    }
   }
  },
  {
   "cell_type": "code",
   "execution_count": 109,
   "outputs": [
    {
     "data": {
      "text/plain": "[('park_rangers', 0.5574042201042175),\n ('ranger', 0.5385411381721497),\n ('forest_rangers', 0.5039790868759155),\n ('Bwindi_Impenetrable_National', 0.47236543893814087),\n ('interpretive_rangers', 0.46525704860687256),\n ('park_ranger', 0.4612078368663788),\n ('TMNP', 0.4502459466457367),\n ('domesticated_bunnies', 0.4416167140007019),\n ('Kidepo', 0.43965375423431396),\n ('cubs', 0.4380700886249542)]"
     },
     "execution_count": 109,
     "metadata": {},
     "output_type": "execute_result"
    }
   ],
   "source": [
    "g_model.most_similar(positive=['chicago', 'rangers'], negative=['texas'])"
   ],
   "metadata": {
    "collapsed": false,
    "ExecuteTime": {
     "start_time": "2023-05-01T19:39:18.855552Z",
     "end_time": "2023-05-01T19:39:23.694899Z"
    }
   }
  },
  {
   "cell_type": "code",
   "execution_count": 110,
   "outputs": [
    {
     "data": {
      "text/plain": "[('queen', 0.7118192911148071),\n ('monarch', 0.6189674735069275),\n ('princess', 0.5902431011199951),\n ('crown_prince', 0.549946129322052),\n ('prince', 0.5377321243286133),\n ('kings', 0.5236843824386597),\n ('Queen_Consort', 0.5235944390296936),\n ('queens', 0.5181134343147278),\n ('sultan', 0.5098593235015869),\n ('monarchy', 0.5087411403656006)]"
     },
     "execution_count": 110,
     "metadata": {},
     "output_type": "execute_result"
    }
   ],
   "source": [
    "g_model.most_similar(positive=['woman', 'king'], negative=['man'])"
   ],
   "metadata": {
    "collapsed": false,
    "ExecuteTime": {
     "start_time": "2023-05-01T19:39:54.014136Z",
     "end_time": "2023-05-01T19:40:07.795583Z"
    }
   }
  },
  {
   "cell_type": "markdown",
   "source": [
    "Program di atas menggunakan library gensim untuk memuat model Word2Vec-Google-News-300 yang telah terlatih sebelumnya pada dataset besar, dan menguji performa model dengan mencari kata-kata yang paling mirip dan menjalankan analogi semantik. Model ini menggunakan representasi vektor kata-kata yang terlatih pada dataset yang besar dan kompleks, yang dapat membantu dalam tugas-tugas NLP seperti analisis sentimen dan klasifikasi dokumen."
   ],
   "metadata": {
    "collapsed": false
   }
  },
  {
   "cell_type": "code",
   "execution_count": 111,
   "outputs": [],
   "source": [
    "train_gmodel = [[g_model[x] for x in y if x in g_model] for y in X_news_train_gsim]\n",
    "train_data_labels = [(x, y) for (x, y) in zip(train_gmodel, y_news_train) if len(x) > 0]\n",
    "X_news_train_gm = [np.array(x) for (x, y) in train_data_labels]\n",
    "y_news_train_gm = [y for (x, y) in train_data_labels]"
   ],
   "metadata": {
    "collapsed": false,
    "ExecuteTime": {
     "start_time": "2023-05-01T19:45:45.842212Z",
     "end_time": "2023-05-01T19:45:52.622487Z"
    }
   }
  },
  {
   "cell_type": "code",
   "execution_count": 112,
   "outputs": [],
   "source": [
    "X_news_train_gmodel = [x.mean(axis=0) for x in X_news_train_gm]"
   ],
   "metadata": {
    "collapsed": false,
    "ExecuteTime": {
     "start_time": "2023-05-01T19:46:21.274643Z",
     "end_time": "2023-05-01T19:46:21.360039Z"
    }
   }
  },
  {
   "cell_type": "code",
   "execution_count": 113,
   "outputs": [],
   "source": [
    "test_gmodel = [[g_model[x] for x in y if x in g_model] for y in X_news_test_gsim]\n",
    "test_data_labels = [(x,y) for (x,y) in zip(test_gmodel, y_news_test) if len(x) > 0]\n",
    "X_news_test_gm = [np.array(x) for (x,y) in test_data_labels]\n",
    "y_news_test_gm = [y for (x,y) in test_data_labels]"
   ],
   "metadata": {
    "collapsed": false,
    "ExecuteTime": {
     "start_time": "2023-05-01T19:46:42.146854Z",
     "end_time": "2023-05-01T19:46:44.371188Z"
    }
   }
  },
  {
   "cell_type": "code",
   "execution_count": 114,
   "outputs": [],
   "source": [
    "X_news_test_gmodel = [x.mean(axis=0) for x in X_news_test_gm]"
   ],
   "metadata": {
    "collapsed": false,
    "ExecuteTime": {
     "start_time": "2023-05-01T19:46:51.144386Z",
     "end_time": "2023-05-01T19:46:51.197582Z"
    }
   }
  },
  {
   "cell_type": "code",
   "execution_count": 115,
   "outputs": [
    {
     "data": {
      "text/plain": "LogisticRegression()"
     },
     "execution_count": 115,
     "metadata": {},
     "output_type": "execute_result"
    }
   ],
   "source": [
    "lr_clf.fit(X_news_train_gmodel, np.array(y_news_train_gm))"
   ],
   "metadata": {
    "collapsed": false,
    "ExecuteTime": {
     "start_time": "2023-05-01T19:47:26.248087Z",
     "end_time": "2023-05-01T19:47:26.350063Z"
    }
   }
  },
  {
   "cell_type": "code",
   "execution_count": 116,
   "outputs": [
    {
     "data": {
      "text/plain": "0.49340369393139843"
     },
     "execution_count": 116,
     "metadata": {},
     "output_type": "execute_result"
    }
   ],
   "source": [
    "lr_clf.score(np.array(X_news_test_gmodel), y_news_test_gm)"
   ],
   "metadata": {
    "collapsed": false,
    "ExecuteTime": {
     "start_time": "2023-05-01T19:48:03.123366Z",
     "end_time": "2023-05-01T19:48:03.207898Z"
    }
   }
  },
  {
   "cell_type": "code",
   "execution_count": 117,
   "outputs": [
    {
     "name": "stdout",
     "output_type": "stream",
     "text": [
      "[==================================================] 100.0% 66.0/66.0MB downloaded\n",
      "C:\\Users\\akmal/gensim-data\\glove-wiki-gigaword-50\\glove-wiki-gigaword-50.gz\n"
     ]
    }
   ],
   "source": [
    "print(api.load('glove-wiki-gigaword-50', return_path=True))"
   ],
   "metadata": {
    "collapsed": false,
    "ExecuteTime": {
     "start_time": "2023-05-01T19:48:27.232316Z",
     "end_time": "2023-05-01T19:48:44.398977Z"
    }
   }
  },
  {
   "cell_type": "markdown",
   "source": [
    "Program diatas melakukan embedding teks menggunakan model pre-trained Word2Vec-Google-News-300 dan melakukan klasifikasi teks dengan menggunakan Logistic Regression. Selain itu, program juga melakukan embedding teks menggunakan model pre-trained GloVe-Wiki-Gigaword-50 dan melakukan evaluasi klasifikasi teks menggunakan skor akurasi."
   ],
   "metadata": {
    "collapsed": false
   }
  },
  {
   "cell_type": "code",
   "execution_count": 118,
   "outputs": [],
   "source": [
    "glove_model = api.load('glove-wiki-gigaword-50')"
   ],
   "metadata": {
    "collapsed": false,
    "ExecuteTime": {
     "start_time": "2023-05-01T19:53:11.467398Z",
     "end_time": "2023-05-01T19:53:35.789221Z"
    }
   }
  },
  {
   "cell_type": "code",
   "execution_count": 119,
   "outputs": [
    {
     "data": {
      "text/plain": "[('pitches', 0.8380102515220642),\n ('pitching', 0.775322675704956),\n ('ball', 0.7705615162849426),\n ('infield', 0.769540548324585),\n ('inning', 0.7672455906867981),\n ('game', 0.7510353326797485),\n ('hitters', 0.7493574619293213),\n ('outfield', 0.7477314472198486),\n ('hitter', 0.7467021346092224),\n ('pitched', 0.7417561411857605)]"
     },
     "execution_count": 119,
     "metadata": {},
     "output_type": "execute_result"
    }
   ],
   "source": [
    "glove_model.most_similar('pitch')"
   ],
   "metadata": {
    "collapsed": false,
    "ExecuteTime": {
     "start_time": "2023-05-01T19:53:39.225156Z",
     "end_time": "2023-05-01T19:53:39.314657Z"
    }
   }
  },
  {
   "cell_type": "code",
   "execution_count": 120,
   "outputs": [
    {
     "data": {
      "text/plain": "[('blackhawks', 0.7986295223236084),\n ('sabres', 0.7900724411010742),\n ('canucks', 0.787615180015564),\n ('canadiens', 0.7621992826461792),\n ('leafs', 0.7570874691009521),\n ('bruins', 0.7503584623336792),\n ('oilers', 0.7478305697441101),\n ('dodgers', 0.7437342405319214),\n ('phillies', 0.7399099469184875),\n ('mets', 0.7378402352333069)]"
     },
     "execution_count": 120,
     "metadata": {},
     "output_type": "execute_result"
    }
   ],
   "source": [
    "glove_model.most_similar(positive=['chicago', 'rangers'], negative=['texas'])"
   ],
   "metadata": {
    "collapsed": false,
    "ExecuteTime": {
     "start_time": "2023-05-01T19:53:47.688708Z",
     "end_time": "2023-05-01T19:53:47.758152Z"
    }
   }
  },
  {
   "cell_type": "code",
   "execution_count": 121,
   "outputs": [
    {
     "data": {
      "text/plain": "[('queen', 0.8523604273796082),\n ('throne', 0.7664333581924438),\n ('prince', 0.759214460849762),\n ('daughter', 0.7473882436752319),\n ('elizabeth', 0.7460220456123352),\n ('princess', 0.7424570322036743),\n ('kingdom', 0.7337412238121033),\n ('monarch', 0.721449077129364),\n ('eldest', 0.7184861898422241),\n ('widow', 0.7099431157112122)]"
     },
     "execution_count": 121,
     "metadata": {},
     "output_type": "execute_result"
    }
   ],
   "source": [
    "glove_model.most_similar(positive=['woman', 'king'], negative=['man'])"
   ],
   "metadata": {
    "collapsed": false,
    "ExecuteTime": {
     "start_time": "2023-05-01T19:54:23.244735Z",
     "end_time": "2023-05-01T19:54:23.297763Z"
    }
   }
  },
  {
   "cell_type": "code",
   "execution_count": 125,
   "outputs": [],
   "source": [
    "train_glove = [[glove_model[x] for x in y if x in glove_model] for y in X_news_train_gsim]\n",
    "train_data_labels = [(x, y) for (x, y) in zip(train_glove, y_news_train) if len(x) > 0]\n",
    "X_news_train_glove = [np.array(x).mean(axis=0) for (x, y) in train_data_labels]\n",
    "y_news_train_glove = [y for (x, y) in train_data_labels]"
   ],
   "metadata": {
    "collapsed": false,
    "ExecuteTime": {
     "start_time": "2023-05-01T19:56:18.306007Z",
     "end_time": "2023-05-01T19:56:18.937010Z"
    }
   }
  },
  {
   "cell_type": "code",
   "execution_count": 126,
   "outputs": [],
   "source": [
    "test_glove = [[glove_model[x] for x in y if x in glove_model] for y in X_news_test_gsim]\n",
    "test_data_labels = [(x, y) for (x, y) in zip(test_glove, y_news_test) if len(x) > 0]\n",
    "X_news_test_glove = [np.array(x).mean(axis=0) for (x, y) in test_data_labels]\n",
    "y_news_test_glove = [y for (x, y) in test_data_labels]"
   ],
   "metadata": {
    "collapsed": false,
    "ExecuteTime": {
     "start_time": "2023-05-01T19:56:29.675766Z",
     "end_time": "2023-05-01T19:56:29.952153Z"
    }
   }
  },
  {
   "cell_type": "code",
   "execution_count": 127,
   "outputs": [
    {
     "data": {
      "text/plain": "LogisticRegression()"
     },
     "execution_count": 127,
     "metadata": {},
     "output_type": "execute_result"
    }
   ],
   "source": [
    "lr_clf.fit(X_news_train_glove, np.array(y_news_train_glove))"
   ],
   "metadata": {
    "collapsed": false,
    "ExecuteTime": {
     "start_time": "2023-05-01T19:56:34.949243Z",
     "end_time": "2023-05-01T19:56:35.004182Z"
    }
   }
  },
  {
   "cell_type": "code",
   "execution_count": 128,
   "outputs": [
    {
     "data": {
      "text/plain": "0.5145118733509235"
     },
     "execution_count": 128,
     "metadata": {},
     "output_type": "execute_result"
    }
   ],
   "source": [
    "lr_clf.score(np.array(X_news_test_glove), y_news_test_glove)"
   ],
   "metadata": {
    "collapsed": false,
    "ExecuteTime": {
     "start_time": "2023-05-01T19:56:43.877505Z",
     "end_time": "2023-05-01T19:56:43.899483Z"
    }
   }
  },
  {
   "cell_type": "markdown",
   "source": [
    "Program diatas adalah untuk melakukan pemrosesan data teks menggunakan model pre-trained GloVe yang diambil dari API Gensim. Pertama-tama, program mengambil model pre-trained GloVe dan kemudian melakukan pemrosesan data teks dengan menghasilkan data training dan testing. Selanjutnya, program menghitung nilai vektor rata-rata dari setiap kata dalam dokumen dan menggunakan nilai vektor rata-rata ini sebagai fitur untuk training model klasifikasi. Akhirnya, program melatih model klasifikasi menggunakan Regresi Logistik dan menghitung akurasi model pada data testing."
   ],
   "metadata": {
    "collapsed": false
   }
  },
  {
   "cell_type": "markdown",
   "source": [
    "## The Doc2Vec Model"
   ],
   "metadata": {
    "collapsed": false
   }
  },
  {
   "cell_type": "code",
   "execution_count": 130,
   "outputs": [],
   "source": [
    "train_corpus = [TaggedDocument(X_news_train_gsim[i], [i]) for i in range(len(X_news_train_gsim))]"
   ],
   "metadata": {
    "collapsed": false,
    "ExecuteTime": {
     "start_time": "2023-05-01T19:58:43.681144Z",
     "end_time": "2023-05-01T19:58:43.691365Z"
    }
   }
  },
  {
   "cell_type": "code",
   "execution_count": 133,
   "outputs": [],
   "source": [
    "d2v_model = Doc2Vec(vector_size=50, min_count=2, epochs=40)\n",
    "d2v_model.build_vocab(train_corpus)\n",
    "d2v_model.train(train_corpus, total_examples=d2v_model.corpus_count, epochs=d2v_model.epochs)"
   ],
   "metadata": {
    "collapsed": false,
    "ExecuteTime": {
     "start_time": "2023-05-01T20:04:17.367829Z",
     "end_time": "2023-05-01T20:04:28.722941Z"
    }
   }
  },
  {
   "cell_type": "code",
   "execution_count": 134,
   "outputs": [],
   "source": [
    "X_news_train_d2v = [d2v_model.infer_vector(x) for x in X_news_train_gsim]\n",
    "X_news_test_d2v = [d2v_model.infer_vector(x) for x in X_news_test_gsim]"
   ],
   "metadata": {
    "collapsed": false,
    "ExecuteTime": {
     "start_time": "2023-05-01T20:06:26.489293Z",
     "end_time": "2023-05-01T20:06:47.375754Z"
    }
   }
  },
  {
   "cell_type": "code",
   "execution_count": 143,
   "outputs": [
    {
     "data": {
      "text/plain": "0.9485488126649076"
     },
     "execution_count": 143,
     "metadata": {},
     "output_type": "execute_result"
    }
   ],
   "source": [
    "lr_clf.fit(X_news_train_d2v, np.array(y_news_train_gsim))\n",
    "lr_clf.score(np.array(X_news_test_d2v), y_news_test_gsim)"
   ],
   "metadata": {
    "collapsed": false,
    "ExecuteTime": {
     "start_time": "2023-05-01T23:07:25.789794Z",
     "end_time": "2023-05-01T23:07:25.879929Z"
    }
   }
  },
  {
   "cell_type": "markdown",
   "source": [
    "Program di atas bertujuan untuk melatih model Doc2Vec untuk menghasilkan vektor representasi dari dokumen teks pada dataset berita. Program pertama-tama membuat corpus teks berita yang telah di-preprocessing, kemudian menggunakan TaggedDocument untuk menandai setiap dokumen dengan nomor indeks. Selanjutnya, model Doc2Vec dibangun dengan ukuran vektor sebesar 50 dan jumlah minimum kemunculan setiap kata sebanyak 2. Setelah membangun model, program melakukan pelatihan pada corpus dengan jumlah epoch sebanyak 40. Setelah itu, program menggunakan model Doc2Vec yang telah dilatih untuk menghasilkan vektor representasi dari dokumen pada data latih dan uji, lalu melakukan klasifikasi pada vektor tersebut menggunakan algoritma regresi logistik."
   ],
   "metadata": {
    "collapsed": false
   }
  }
 ],
 "metadata": {
  "kernelspec": {
   "display_name": "Python 3",
   "language": "python",
   "name": "python3"
  },
  "language_info": {
   "codemirror_mode": {
    "name": "ipython",
    "version": 2
   },
   "file_extension": ".py",
   "mimetype": "text/x-python",
   "name": "python",
   "nbconvert_exporter": "python",
   "pygments_lexer": "ipython2",
   "version": "2.7.6"
  }
 },
 "nbformat": 4,
 "nbformat_minor": 0
}
